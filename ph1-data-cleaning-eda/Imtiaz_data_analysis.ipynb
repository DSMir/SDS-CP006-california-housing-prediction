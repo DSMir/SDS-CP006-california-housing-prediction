{
  "nbformat": 4,
  "nbformat_minor": 0,
  "metadata": {
    "colab": {
      "provenance": []
    },
    "kernelspec": {
      "name": "python3",
      "display_name": "Python 3"
    },
    "language_info": {
      "name": "python"
    }
  },
  "cells": [
    {
      "cell_type": "markdown",
      "source": [
        "# Importing dataset directly from Kaggle into Colab"
      ],
      "metadata": {
        "id": "-dPk5U4B_D2G"
      }
    },
    {
      "cell_type": "code",
      "execution_count": 3,
      "metadata": {
        "id": "iz8wOSNI0sJo",
        "colab": {
          "base_uri": "https://localhost:8080/"
        },
        "outputId": "0e0f6880-8fd0-4a2a-e9fc-e0be7183cd63"
      },
      "outputs": [
        {
          "output_type": "stream",
          "name": "stdout",
          "text": [
            "Collecting opendatasets\n",
            "  Downloading opendatasets-0.1.22-py3-none-any.whl.metadata (9.2 kB)\n",
            "Requirement already satisfied: tqdm in /usr/local/lib/python3.10/dist-packages (from opendatasets) (4.66.5)\n",
            "Requirement already satisfied: kaggle in /usr/local/lib/python3.10/dist-packages (from opendatasets) (1.6.17)\n",
            "Requirement already satisfied: click in /usr/local/lib/python3.10/dist-packages (from opendatasets) (8.1.7)\n",
            "Requirement already satisfied: six>=1.10 in /usr/local/lib/python3.10/dist-packages (from kaggle->opendatasets) (1.16.0)\n",
            "Requirement already satisfied: certifi>=2023.7.22 in /usr/local/lib/python3.10/dist-packages (from kaggle->opendatasets) (2024.8.30)\n",
            "Requirement already satisfied: python-dateutil in /usr/local/lib/python3.10/dist-packages (from kaggle->opendatasets) (2.8.2)\n",
            "Requirement already satisfied: requests in /usr/local/lib/python3.10/dist-packages (from kaggle->opendatasets) (2.32.3)\n",
            "Requirement already satisfied: python-slugify in /usr/local/lib/python3.10/dist-packages (from kaggle->opendatasets) (8.0.4)\n",
            "Requirement already satisfied: urllib3 in /usr/local/lib/python3.10/dist-packages (from kaggle->opendatasets) (2.0.7)\n",
            "Requirement already satisfied: bleach in /usr/local/lib/python3.10/dist-packages (from kaggle->opendatasets) (6.1.0)\n",
            "Requirement already satisfied: webencodings in /usr/local/lib/python3.10/dist-packages (from bleach->kaggle->opendatasets) (0.5.1)\n",
            "Requirement already satisfied: text-unidecode>=1.3 in /usr/local/lib/python3.10/dist-packages (from python-slugify->kaggle->opendatasets) (1.3)\n",
            "Requirement already satisfied: charset-normalizer<4,>=2 in /usr/local/lib/python3.10/dist-packages (from requests->kaggle->opendatasets) (3.3.2)\n",
            "Requirement already satisfied: idna<4,>=2.5 in /usr/local/lib/python3.10/dist-packages (from requests->kaggle->opendatasets) (3.8)\n",
            "Downloading opendatasets-0.1.22-py3-none-any.whl (15 kB)\n",
            "Installing collected packages: opendatasets\n",
            "Successfully installed opendatasets-0.1.22\n",
            "Please provide your Kaggle credentials to download this dataset. Learn more: http://bit.ly/kaggle-creds\n",
            "Your Kaggle username: syedimtiazmir\n",
            "Your Kaggle Key: ··········\n",
            "Dataset URL: https://www.kaggle.com/datasets/yellowj4acket/real-estate-california\n",
            "Downloading real-estate-california.zip to ./real-estate-california\n"
          ]
        },
        {
          "output_type": "stream",
          "name": "stderr",
          "text": [
            "100%|██████████| 11.4M/11.4M [00:00<00:00, 102MB/s] "
          ]
        },
        {
          "output_type": "stream",
          "name": "stdout",
          "text": [
            "\n"
          ]
        },
        {
          "output_type": "stream",
          "name": "stderr",
          "text": [
            "\n"
          ]
        }
      ],
      "source": [
        "# Code to import dataset directly from Kaggle into Colab\n",
        "# Need to have Kaggle user name and API token key (which may expire so new API token key might need to be generated)\n",
        "\n",
        "!pip install opendatasets\n",
        "import opendatasets as od\n",
        "od.download(\"https://www.kaggle.com/datasets/yellowj4acket/real-estate-california\")\n"
      ]
    },
    {
      "cell_type": "code",
      "source": [
        "# Import necessary libraries\n",
        "import pandas as pd\n",
        "import numpy as np\n",
        "import matplotlib.pyplot as plt\n",
        "import seaborn as sns\n",
        "\n",
        "# load the dataset\n",
        "data = pd.read_csv('/content/real-estate-california/RealEstate_California.csv')\n",
        "\n",
        "data.head()\n",
        "\n"
      ],
      "metadata": {
        "id": "OZAyDjZ04PJI",
        "colab": {
          "base_uri": "https://localhost:8080/",
          "height": 446
        },
        "outputId": "1ca97312-9682-4c0e-da4e-2de6e2f667c9"
      },
      "execution_count": 5,
      "outputs": [
        {
          "output_type": "execute_result",
          "data": {
            "text/plain": [
              "   Unnamed: 0                id  stateId  countyId  cityId country  \\\n",
              "0           0  95717-2087851113        9        77   24895     USA   \n",
              "1           1    94564-18496265        9       189   36958     USA   \n",
              "2           2    94564-18484475        9       190   36958     USA   \n",
              "3           3    94564-18494835        9       191   36958     USA   \n",
              "4           4  94564-2069722747        9       192   36958     USA   \n",
              "\n",
              "  datePostedString  is_bankOwned  is_forAuction            event  ...  \\\n",
              "0       2021-01-13             0              0  Listed for sale  ...   \n",
              "1       2021-07-12             0              0  Listed for sale  ...   \n",
              "2       2021-07-08             0              0  Listed for sale  ...   \n",
              "3       2021-07-07             0              0  Listed for sale  ...   \n",
              "4       2021-07-07             0              0  Listed for sale  ...   \n",
              "\n",
              "   parking  garageSpaces  hasGarage     levels pool  spa isNewConstruction  \\\n",
              "0        0           0.0          0          0    0    0                 0   \n",
              "1        1           2.0          1  One Story    0    0                 0   \n",
              "2        1           2.0          1  One Story    0    0                 0   \n",
              "3        1           1.0          1  Two Story    0    1                 0   \n",
              "4        0           0.0          0          0    0    0                 0   \n",
              "\n",
              "   hasPetsAllowed       homeType               county  \n",
              "0               0            LOT        Placer County  \n",
              "1               0  SINGLE_FAMILY  Contra Costa County  \n",
              "2               0  SINGLE_FAMILY  Contra Costa County  \n",
              "3               0  SINGLE_FAMILY  Contra Costa County  \n",
              "4               0            LOT  Contra Costa County  \n",
              "\n",
              "[5 rows x 39 columns]"
            ],
            "text/html": [
              "\n",
              "  <div id=\"df-8105c1e0-a86e-4fcc-a376-fb04dcbbe623\" class=\"colab-df-container\">\n",
              "    <div>\n",
              "<style scoped>\n",
              "    .dataframe tbody tr th:only-of-type {\n",
              "        vertical-align: middle;\n",
              "    }\n",
              "\n",
              "    .dataframe tbody tr th {\n",
              "        vertical-align: top;\n",
              "    }\n",
              "\n",
              "    .dataframe thead th {\n",
              "        text-align: right;\n",
              "    }\n",
              "</style>\n",
              "<table border=\"1\" class=\"dataframe\">\n",
              "  <thead>\n",
              "    <tr style=\"text-align: right;\">\n",
              "      <th></th>\n",
              "      <th>Unnamed: 0</th>\n",
              "      <th>id</th>\n",
              "      <th>stateId</th>\n",
              "      <th>countyId</th>\n",
              "      <th>cityId</th>\n",
              "      <th>country</th>\n",
              "      <th>datePostedString</th>\n",
              "      <th>is_bankOwned</th>\n",
              "      <th>is_forAuction</th>\n",
              "      <th>event</th>\n",
              "      <th>...</th>\n",
              "      <th>parking</th>\n",
              "      <th>garageSpaces</th>\n",
              "      <th>hasGarage</th>\n",
              "      <th>levels</th>\n",
              "      <th>pool</th>\n",
              "      <th>spa</th>\n",
              "      <th>isNewConstruction</th>\n",
              "      <th>hasPetsAllowed</th>\n",
              "      <th>homeType</th>\n",
              "      <th>county</th>\n",
              "    </tr>\n",
              "  </thead>\n",
              "  <tbody>\n",
              "    <tr>\n",
              "      <th>0</th>\n",
              "      <td>0</td>\n",
              "      <td>95717-2087851113</td>\n",
              "      <td>9</td>\n",
              "      <td>77</td>\n",
              "      <td>24895</td>\n",
              "      <td>USA</td>\n",
              "      <td>2021-01-13</td>\n",
              "      <td>0</td>\n",
              "      <td>0</td>\n",
              "      <td>Listed for sale</td>\n",
              "      <td>...</td>\n",
              "      <td>0</td>\n",
              "      <td>0.0</td>\n",
              "      <td>0</td>\n",
              "      <td>0</td>\n",
              "      <td>0</td>\n",
              "      <td>0</td>\n",
              "      <td>0</td>\n",
              "      <td>0</td>\n",
              "      <td>LOT</td>\n",
              "      <td>Placer County</td>\n",
              "    </tr>\n",
              "    <tr>\n",
              "      <th>1</th>\n",
              "      <td>1</td>\n",
              "      <td>94564-18496265</td>\n",
              "      <td>9</td>\n",
              "      <td>189</td>\n",
              "      <td>36958</td>\n",
              "      <td>USA</td>\n",
              "      <td>2021-07-12</td>\n",
              "      <td>0</td>\n",
              "      <td>0</td>\n",
              "      <td>Listed for sale</td>\n",
              "      <td>...</td>\n",
              "      <td>1</td>\n",
              "      <td>2.0</td>\n",
              "      <td>1</td>\n",
              "      <td>One Story</td>\n",
              "      <td>0</td>\n",
              "      <td>0</td>\n",
              "      <td>0</td>\n",
              "      <td>0</td>\n",
              "      <td>SINGLE_FAMILY</td>\n",
              "      <td>Contra Costa County</td>\n",
              "    </tr>\n",
              "    <tr>\n",
              "      <th>2</th>\n",
              "      <td>2</td>\n",
              "      <td>94564-18484475</td>\n",
              "      <td>9</td>\n",
              "      <td>190</td>\n",
              "      <td>36958</td>\n",
              "      <td>USA</td>\n",
              "      <td>2021-07-08</td>\n",
              "      <td>0</td>\n",
              "      <td>0</td>\n",
              "      <td>Listed for sale</td>\n",
              "      <td>...</td>\n",
              "      <td>1</td>\n",
              "      <td>2.0</td>\n",
              "      <td>1</td>\n",
              "      <td>One Story</td>\n",
              "      <td>0</td>\n",
              "      <td>0</td>\n",
              "      <td>0</td>\n",
              "      <td>0</td>\n",
              "      <td>SINGLE_FAMILY</td>\n",
              "      <td>Contra Costa County</td>\n",
              "    </tr>\n",
              "    <tr>\n",
              "      <th>3</th>\n",
              "      <td>3</td>\n",
              "      <td>94564-18494835</td>\n",
              "      <td>9</td>\n",
              "      <td>191</td>\n",
              "      <td>36958</td>\n",
              "      <td>USA</td>\n",
              "      <td>2021-07-07</td>\n",
              "      <td>0</td>\n",
              "      <td>0</td>\n",
              "      <td>Listed for sale</td>\n",
              "      <td>...</td>\n",
              "      <td>1</td>\n",
              "      <td>1.0</td>\n",
              "      <td>1</td>\n",
              "      <td>Two Story</td>\n",
              "      <td>0</td>\n",
              "      <td>1</td>\n",
              "      <td>0</td>\n",
              "      <td>0</td>\n",
              "      <td>SINGLE_FAMILY</td>\n",
              "      <td>Contra Costa County</td>\n",
              "    </tr>\n",
              "    <tr>\n",
              "      <th>4</th>\n",
              "      <td>4</td>\n",
              "      <td>94564-2069722747</td>\n",
              "      <td>9</td>\n",
              "      <td>192</td>\n",
              "      <td>36958</td>\n",
              "      <td>USA</td>\n",
              "      <td>2021-07-07</td>\n",
              "      <td>0</td>\n",
              "      <td>0</td>\n",
              "      <td>Listed for sale</td>\n",
              "      <td>...</td>\n",
              "      <td>0</td>\n",
              "      <td>0.0</td>\n",
              "      <td>0</td>\n",
              "      <td>0</td>\n",
              "      <td>0</td>\n",
              "      <td>0</td>\n",
              "      <td>0</td>\n",
              "      <td>0</td>\n",
              "      <td>LOT</td>\n",
              "      <td>Contra Costa County</td>\n",
              "    </tr>\n",
              "  </tbody>\n",
              "</table>\n",
              "<p>5 rows × 39 columns</p>\n",
              "</div>\n",
              "    <div class=\"colab-df-buttons\">\n",
              "\n",
              "  <div class=\"colab-df-container\">\n",
              "    <button class=\"colab-df-convert\" onclick=\"convertToInteractive('df-8105c1e0-a86e-4fcc-a376-fb04dcbbe623')\"\n",
              "            title=\"Convert this dataframe to an interactive table.\"\n",
              "            style=\"display:none;\">\n",
              "\n",
              "  <svg xmlns=\"http://www.w3.org/2000/svg\" height=\"24px\" viewBox=\"0 -960 960 960\">\n",
              "    <path d=\"M120-120v-720h720v720H120Zm60-500h600v-160H180v160Zm220 220h160v-160H400v160Zm0 220h160v-160H400v160ZM180-400h160v-160H180v160Zm440 0h160v-160H620v160ZM180-180h160v-160H180v160Zm440 0h160v-160H620v160Z\"/>\n",
              "  </svg>\n",
              "    </button>\n",
              "\n",
              "  <style>\n",
              "    .colab-df-container {\n",
              "      display:flex;\n",
              "      gap: 12px;\n",
              "    }\n",
              "\n",
              "    .colab-df-convert {\n",
              "      background-color: #E8F0FE;\n",
              "      border: none;\n",
              "      border-radius: 50%;\n",
              "      cursor: pointer;\n",
              "      display: none;\n",
              "      fill: #1967D2;\n",
              "      height: 32px;\n",
              "      padding: 0 0 0 0;\n",
              "      width: 32px;\n",
              "    }\n",
              "\n",
              "    .colab-df-convert:hover {\n",
              "      background-color: #E2EBFA;\n",
              "      box-shadow: 0px 1px 2px rgba(60, 64, 67, 0.3), 0px 1px 3px 1px rgba(60, 64, 67, 0.15);\n",
              "      fill: #174EA6;\n",
              "    }\n",
              "\n",
              "    .colab-df-buttons div {\n",
              "      margin-bottom: 4px;\n",
              "    }\n",
              "\n",
              "    [theme=dark] .colab-df-convert {\n",
              "      background-color: #3B4455;\n",
              "      fill: #D2E3FC;\n",
              "    }\n",
              "\n",
              "    [theme=dark] .colab-df-convert:hover {\n",
              "      background-color: #434B5C;\n",
              "      box-shadow: 0px 1px 3px 1px rgba(0, 0, 0, 0.15);\n",
              "      filter: drop-shadow(0px 1px 2px rgba(0, 0, 0, 0.3));\n",
              "      fill: #FFFFFF;\n",
              "    }\n",
              "  </style>\n",
              "\n",
              "    <script>\n",
              "      const buttonEl =\n",
              "        document.querySelector('#df-8105c1e0-a86e-4fcc-a376-fb04dcbbe623 button.colab-df-convert');\n",
              "      buttonEl.style.display =\n",
              "        google.colab.kernel.accessAllowed ? 'block' : 'none';\n",
              "\n",
              "      async function convertToInteractive(key) {\n",
              "        const element = document.querySelector('#df-8105c1e0-a86e-4fcc-a376-fb04dcbbe623');\n",
              "        const dataTable =\n",
              "          await google.colab.kernel.invokeFunction('convertToInteractive',\n",
              "                                                    [key], {});\n",
              "        if (!dataTable) return;\n",
              "\n",
              "        const docLinkHtml = 'Like what you see? Visit the ' +\n",
              "          '<a target=\"_blank\" href=https://colab.research.google.com/notebooks/data_table.ipynb>data table notebook</a>'\n",
              "          + ' to learn more about interactive tables.';\n",
              "        element.innerHTML = '';\n",
              "        dataTable['output_type'] = 'display_data';\n",
              "        await google.colab.output.renderOutput(dataTable, element);\n",
              "        const docLink = document.createElement('div');\n",
              "        docLink.innerHTML = docLinkHtml;\n",
              "        element.appendChild(docLink);\n",
              "      }\n",
              "    </script>\n",
              "  </div>\n",
              "\n",
              "\n",
              "<div id=\"df-355ea2f4-0c88-4e4e-a844-af0aae3434dd\">\n",
              "  <button class=\"colab-df-quickchart\" onclick=\"quickchart('df-355ea2f4-0c88-4e4e-a844-af0aae3434dd')\"\n",
              "            title=\"Suggest charts\"\n",
              "            style=\"display:none;\">\n",
              "\n",
              "<svg xmlns=\"http://www.w3.org/2000/svg\" height=\"24px\"viewBox=\"0 0 24 24\"\n",
              "     width=\"24px\">\n",
              "    <g>\n",
              "        <path d=\"M19 3H5c-1.1 0-2 .9-2 2v14c0 1.1.9 2 2 2h14c1.1 0 2-.9 2-2V5c0-1.1-.9-2-2-2zM9 17H7v-7h2v7zm4 0h-2V7h2v10zm4 0h-2v-4h2v4z\"/>\n",
              "    </g>\n",
              "</svg>\n",
              "  </button>\n",
              "\n",
              "<style>\n",
              "  .colab-df-quickchart {\n",
              "      --bg-color: #E8F0FE;\n",
              "      --fill-color: #1967D2;\n",
              "      --hover-bg-color: #E2EBFA;\n",
              "      --hover-fill-color: #174EA6;\n",
              "      --disabled-fill-color: #AAA;\n",
              "      --disabled-bg-color: #DDD;\n",
              "  }\n",
              "\n",
              "  [theme=dark] .colab-df-quickchart {\n",
              "      --bg-color: #3B4455;\n",
              "      --fill-color: #D2E3FC;\n",
              "      --hover-bg-color: #434B5C;\n",
              "      --hover-fill-color: #FFFFFF;\n",
              "      --disabled-bg-color: #3B4455;\n",
              "      --disabled-fill-color: #666;\n",
              "  }\n",
              "\n",
              "  .colab-df-quickchart {\n",
              "    background-color: var(--bg-color);\n",
              "    border: none;\n",
              "    border-radius: 50%;\n",
              "    cursor: pointer;\n",
              "    display: none;\n",
              "    fill: var(--fill-color);\n",
              "    height: 32px;\n",
              "    padding: 0;\n",
              "    width: 32px;\n",
              "  }\n",
              "\n",
              "  .colab-df-quickchart:hover {\n",
              "    background-color: var(--hover-bg-color);\n",
              "    box-shadow: 0 1px 2px rgba(60, 64, 67, 0.3), 0 1px 3px 1px rgba(60, 64, 67, 0.15);\n",
              "    fill: var(--button-hover-fill-color);\n",
              "  }\n",
              "\n",
              "  .colab-df-quickchart-complete:disabled,\n",
              "  .colab-df-quickchart-complete:disabled:hover {\n",
              "    background-color: var(--disabled-bg-color);\n",
              "    fill: var(--disabled-fill-color);\n",
              "    box-shadow: none;\n",
              "  }\n",
              "\n",
              "  .colab-df-spinner {\n",
              "    border: 2px solid var(--fill-color);\n",
              "    border-color: transparent;\n",
              "    border-bottom-color: var(--fill-color);\n",
              "    animation:\n",
              "      spin 1s steps(1) infinite;\n",
              "  }\n",
              "\n",
              "  @keyframes spin {\n",
              "    0% {\n",
              "      border-color: transparent;\n",
              "      border-bottom-color: var(--fill-color);\n",
              "      border-left-color: var(--fill-color);\n",
              "    }\n",
              "    20% {\n",
              "      border-color: transparent;\n",
              "      border-left-color: var(--fill-color);\n",
              "      border-top-color: var(--fill-color);\n",
              "    }\n",
              "    30% {\n",
              "      border-color: transparent;\n",
              "      border-left-color: var(--fill-color);\n",
              "      border-top-color: var(--fill-color);\n",
              "      border-right-color: var(--fill-color);\n",
              "    }\n",
              "    40% {\n",
              "      border-color: transparent;\n",
              "      border-right-color: var(--fill-color);\n",
              "      border-top-color: var(--fill-color);\n",
              "    }\n",
              "    60% {\n",
              "      border-color: transparent;\n",
              "      border-right-color: var(--fill-color);\n",
              "    }\n",
              "    80% {\n",
              "      border-color: transparent;\n",
              "      border-right-color: var(--fill-color);\n",
              "      border-bottom-color: var(--fill-color);\n",
              "    }\n",
              "    90% {\n",
              "      border-color: transparent;\n",
              "      border-bottom-color: var(--fill-color);\n",
              "    }\n",
              "  }\n",
              "</style>\n",
              "\n",
              "  <script>\n",
              "    async function quickchart(key) {\n",
              "      const quickchartButtonEl =\n",
              "        document.querySelector('#' + key + ' button');\n",
              "      quickchartButtonEl.disabled = true;  // To prevent multiple clicks.\n",
              "      quickchartButtonEl.classList.add('colab-df-spinner');\n",
              "      try {\n",
              "        const charts = await google.colab.kernel.invokeFunction(\n",
              "            'suggestCharts', [key], {});\n",
              "      } catch (error) {\n",
              "        console.error('Error during call to suggestCharts:', error);\n",
              "      }\n",
              "      quickchartButtonEl.classList.remove('colab-df-spinner');\n",
              "      quickchartButtonEl.classList.add('colab-df-quickchart-complete');\n",
              "    }\n",
              "    (() => {\n",
              "      let quickchartButtonEl =\n",
              "        document.querySelector('#df-355ea2f4-0c88-4e4e-a844-af0aae3434dd button');\n",
              "      quickchartButtonEl.style.display =\n",
              "        google.colab.kernel.accessAllowed ? 'block' : 'none';\n",
              "    })();\n",
              "  </script>\n",
              "</div>\n",
              "\n",
              "    </div>\n",
              "  </div>\n"
            ],
            "application/vnd.google.colaboratory.intrinsic+json": {
              "type": "dataframe",
              "variable_name": "data"
            }
          },
          "metadata": {},
          "execution_count": 5
        }
      ]
    },
    {
      "cell_type": "code",
      "source": [
        "# info about dataset\n",
        "data.shape"
      ],
      "metadata": {
        "colab": {
          "base_uri": "https://localhost:8080/"
        },
        "id": "mnLY1oD_-nPZ",
        "outputId": "38f862fc-982e-4eb6-c8dc-9c3d889ff291"
      },
      "execution_count": 6,
      "outputs": [
        {
          "output_type": "execute_result",
          "data": {
            "text/plain": [
              "(35389, 39)"
            ]
          },
          "metadata": {},
          "execution_count": 6
        }
      ]
    },
    {
      "cell_type": "code",
      "source": [
        "data.info()"
      ],
      "metadata": {
        "colab": {
          "base_uri": "https://localhost:8080/"
        },
        "id": "_AFCIlKKLgVP",
        "outputId": "a5e4f209-ef07-4d73-8707-87c6cf1b15b2"
      },
      "execution_count": 7,
      "outputs": [
        {
          "output_type": "stream",
          "name": "stdout",
          "text": [
            "<class 'pandas.core.frame.DataFrame'>\n",
            "RangeIndex: 35389 entries, 0 to 35388\n",
            "Data columns (total 39 columns):\n",
            " #   Column              Non-Null Count  Dtype  \n",
            "---  ------              --------------  -----  \n",
            " 0   Unnamed: 0          35389 non-null  int64  \n",
            " 1   id                  35389 non-null  object \n",
            " 2   stateId             35389 non-null  int64  \n",
            " 3   countyId            35389 non-null  int64  \n",
            " 4   cityId              35389 non-null  int64  \n",
            " 5   country             35389 non-null  object \n",
            " 6   datePostedString    35386 non-null  object \n",
            " 7   is_bankOwned        35389 non-null  int64  \n",
            " 8   is_forAuction       35389 non-null  int64  \n",
            " 9   event               35100 non-null  object \n",
            " 10  time                35100 non-null  float64\n",
            " 11  price               35389 non-null  float64\n",
            " 12  pricePerSquareFoot  35389 non-null  float64\n",
            " 13  city                35389 non-null  object \n",
            " 14  state               35389 non-null  object \n",
            " 15  yearBuilt           35389 non-null  int64  \n",
            " 16  streetAddress       35388 non-null  object \n",
            " 17  zipcode             35364 non-null  float64\n",
            " 18  longitude           35389 non-null  float64\n",
            " 19  latitude            35389 non-null  float64\n",
            " 20  hasBadGeocode       35389 non-null  int64  \n",
            " 21  description         35110 non-null  object \n",
            " 22  currency            35389 non-null  object \n",
            " 23  livingArea          35389 non-null  float64\n",
            " 24  livingAreaValue     35389 non-null  float64\n",
            " 25  lotAreaUnits        35389 non-null  object \n",
            " 26  bathrooms           35389 non-null  float64\n",
            " 27  bedrooms            35389 non-null  float64\n",
            " 28  buildingArea        35389 non-null  float64\n",
            " 29  parking             35389 non-null  int64  \n",
            " 30  garageSpaces        35389 non-null  float64\n",
            " 31  hasGarage           35389 non-null  int64  \n",
            " 32  levels              35389 non-null  object \n",
            " 33  pool                35389 non-null  int64  \n",
            " 34  spa                 35389 non-null  int64  \n",
            " 35  isNewConstruction   35389 non-null  int64  \n",
            " 36  hasPetsAllowed      35389 non-null  int64  \n",
            " 37  homeType            35389 non-null  object \n",
            " 38  county              35389 non-null  object \n",
            "dtypes: float64(12), int64(14), object(13)\n",
            "memory usage: 10.5+ MB\n"
          ]
        }
      ]
    },
    {
      "cell_type": "markdown",
      "source": [
        "# Identifying columns to be dropped\n",
        "1. Columns which have data that have no relevance to price prediction e.g. Serial # (Unnamed: 0), id\n",
        "2. Columns which have duplicate information e.g. countyId, cityId\n",
        "3. Columns which have only one value in the dataset\n",
        "4. Columns which only have limited value instances e.g. is_bankOwned"
      ],
      "metadata": {
        "id": "X1obMiBY_zmN"
      }
    },
    {
      "cell_type": "code",
      "source": [
        "# Initialize an empty list to store column names to drop\n",
        "columns_to_drop = []\n",
        "\n",
        "# Dropping irrelevant columns\n",
        "columns_to_drop.extend(['Unnamed: 0', 'id'])\n",
        "\n",
        "# Dropping duplicate columns\n",
        "columns_to_drop.extend(['countyId', 'cityId'])\n",
        "\n",
        "# Identify columns with only one unique value\n",
        "one_unique_col = []\n",
        "\n",
        "for column in data.columns:\n",
        "    if data[column].nunique() == 1:\n",
        "        one_unique_col.append((column, data[column].nunique()))\n",
        "        columns_to_drop.append(column)\n",
        "\n",
        "# Print columns with only one unique value and the count of unique values\n",
        "print(\"Columns to drop (having only one unique value):\")\n",
        "for column, unique_count in one_unique_col:\n",
        "    print(f\"Column: {column}, Unique Values: {unique_count}\")\n",
        "print(\"\\n\")\n",
        "\n",
        "\n",
        "# Check for differences between 'livingArea' and 'livingAreaValue'\n",
        "difference = data['livingArea'] != data['livingAreaValue']\n",
        "\n",
        "# Count the number of rows where the values are different\n",
        "num_differences = difference.sum()\n",
        "print(f\"Number of rows with differences b/w livingArea and livingAreaValue columns: {num_differences}\")\n",
        "\n",
        "# Display the rows where the values are different\n",
        "rows_with_differences = data[difference]\n",
        "print(rows_with_differences[['livingArea', 'livingAreaValue']])\n",
        "print(\"\\n\")\n",
        "# Drop the 'livingAreaValue' column\n",
        "columns_to_drop.append('livingArea')  # since livingArea is missing an entry compared to livingAreaValue\n",
        "\n",
        "print(\"\\nRunnnig List of columns to drop:\")\n",
        "print(columns_to_drop)\n",
        "print(\"\\n\")"
      ],
      "metadata": {
        "colab": {
          "base_uri": "https://localhost:8080/"
        },
        "id": "jV9-STmw761M",
        "outputId": "7f2ee20e-81c4-4554-b8f6-77ea0a80c876"
      },
      "execution_count": 38,
      "outputs": [
        {
          "output_type": "stream",
          "name": "stdout",
          "text": [
            "Columns to drop (having only one unique value):\n",
            "Column: stateId, Unique Values: 1\n",
            "Column: country, Unique Values: 1\n",
            "Column: state, Unique Values: 1\n",
            "Column: currency, Unique Values: 1\n",
            "\n",
            "\n",
            "Number of rows with differences b/w livingArea and livingAreaValue columns: 1\n",
            "       livingArea  livingAreaValue\n",
            "34975         0.0       26210.0965\n",
            "\n",
            "\n",
            "Number of duplicate street addresses: 4259\n",
            "                      streetAddress\n",
            "17     7137 Coldwater Canyon Ave #6\n",
            "18                    7823 Lemp Ave\n",
            "19                   12421 Stagg St\n",
            "20                 7815 Simpson Ave\n",
            "21               7706 Wilkinson Ave\n",
            "...                             ...\n",
            "35343                  644 Cedar Ln\n",
            "35344                    0 North Rd\n",
            "35363    600 S Ridgeley Dr UNIT 104\n",
            "35386                115 Clinton St\n",
            "35387              415 Caledonia St\n",
            "\n",
            "[8470 rows x 1 columns]\n",
            "\n",
            "Runnnig List of columns to drop:\n",
            "['Unnamed: 0', 'id', 'countyId', 'cityId', 'stateId', 'country', 'state', 'currency', 'livingArea']\n",
            "\n",
            "\n"
          ]
        }
      ]
    },
    {
      "cell_type": "code",
      "source": [
        "# Identify columns with limited unique values and their counts\n",
        "LIMITED_UNIQUE = 10             # constant to define how many unique values we may want to consider\n",
        "limited_unique_col = []\n",
        "limited_unique_col_counts = {} #dictionary to store column names and their unique values\n",
        "\n",
        "for column in data.columns:\n",
        "    if data[column].nunique() > 1 and data[column].nunique() < LIMITED_UNIQUE:\n",
        "        limited_unique_col.append((column, data[column].nunique()))\n",
        "        unique_values_counts = data[column].value_counts()\n",
        "        limited_unique_col_counts[column] = unique_values_counts\n",
        "\n",
        "\n",
        "\n",
        "print(\"=\"*50)\n",
        "\n",
        "# Print columns with fewer than LIMITED_UNIQUE values and the count of unique values\n",
        "print(f\"\\nColumns with fewer than {LIMITED_UNIQUE} unique values:\")\n",
        "for column, unique_count in limited_unique_col:\n",
        "  print(f\"Column: {column}, Unique Values: {unique_count}\")\n",
        "\n",
        "print(\"\\n\" + \"=\"*50 + \"\\n\\n\")\n",
        "# Print the unique values and their counts for columns with fewer than COUNT_INSTANCES values\n",
        "COUNT_INSTANCES = 50\n",
        "print(f\"Unique values and their counts for columns with fewer than {COUNT_INSTANCES} unique values:\\n\")\n",
        "for column, unique_values_counts in limited_unique_col_counts.items():\n",
        "  if (unique_values_counts < COUNT_INSTANCES).any():\n",
        "    print(f\"Column: {column}\")\n",
        "    print(unique_values_counts)\n",
        "    #print(unique_values_counts.sum())\n",
        "    print(\"=\"*50)\n"
      ],
      "metadata": {
        "colab": {
          "base_uri": "https://localhost:8080/"
        },
        "id": "IyUbTFdaNuId",
        "outputId": "3b04a823-264b-4fd7-a8e7-6bac906e6954"
      },
      "execution_count": 9,
      "outputs": [
        {
          "output_type": "stream",
          "name": "stdout",
          "text": [
            "==================================================\n",
            "\n",
            "Columns with fewer than 10 unique values:\n",
            "Column: is_bankOwned, Unique Values: 2\n",
            "Column: is_forAuction, Unique Values: 2\n",
            "Column: event, Unique Values: 6\n",
            "Column: hasBadGeocode, Unique Values: 2\n",
            "Column: lotAreaUnits, Unique Values: 2\n",
            "Column: parking, Unique Values: 2\n",
            "Column: hasGarage, Unique Values: 2\n",
            "Column: pool, Unique Values: 2\n",
            "Column: spa, Unique Values: 2\n",
            "Column: isNewConstruction, Unique Values: 2\n",
            "Column: hasPetsAllowed, Unique Values: 2\n",
            "Column: homeType, Unique Values: 6\n",
            "\n",
            "==================================================\n",
            "\n",
            "\n",
            "Unique values and their counts for columns with fewer than 50 unique values:\n",
            "\n",
            "Column: is_bankOwned\n",
            "is_bankOwned\n",
            "0    35386\n",
            "1        3\n",
            "Name: count, dtype: int64\n",
            "==================================================\n",
            "Column: is_forAuction\n",
            "is_forAuction\n",
            "0    35363\n",
            "1       26\n",
            "Name: count, dtype: int64\n",
            "==================================================\n",
            "Column: event\n",
            "event\n",
            "Listed for sale    24622\n",
            "Price change        4893\n",
            "Listing removed     4311\n",
            "Sold                1268\n",
            "Listed for rent        5\n",
            "Pending sale           1\n",
            "Name: count, dtype: int64\n",
            "==================================================\n",
            "Column: hasBadGeocode\n",
            "hasBadGeocode\n",
            "0    35386\n",
            "1        3\n",
            "Name: count, dtype: int64\n",
            "==================================================\n",
            "Column: homeType\n",
            "homeType\n",
            "SINGLE_FAMILY    22409\n",
            "LOT               5850\n",
            "CONDO             3495\n",
            "MULTI_FAMILY      2446\n",
            "TOWNHOUSE         1188\n",
            "APARTMENT            1\n",
            "Name: count, dtype: int64\n",
            "==================================================\n"
          ]
        }
      ]
    },
    {
      "cell_type": "code",
      "source": [
        "# Using output from above eliminating columns that have limited number of unique instances\n",
        "# these include is_bankOwned, is_forAuction, hasBadGeocode\n",
        "\n",
        "columns_to_drop.extend(['is_bankOwned', 'is_forAuction', 'hasBadGeocode'])\n",
        "print(\"\\nRunnnig List of columns to drop:\")\n",
        "print(columns_to_drop)\n",
        "print(\"\\n\")\n"
      ],
      "metadata": {
        "colab": {
          "base_uri": "https://localhost:8080/"
        },
        "id": "LuE-3nVGaYl7",
        "outputId": "96d13da3-5eb7-4659-8e05-fbc4c73e6a49"
      },
      "execution_count": 10,
      "outputs": [
        {
          "output_type": "stream",
          "name": "stdout",
          "text": [
            "\n",
            "Runnnig List of columns to drop:\n",
            "['Unnamed: 0', 'id', 'countyId', 'cityId', 'stateId', 'country', 'state', 'currency', 'is_bankOwned', 'is_forAuction', 'hasBadGeocode']\n",
            "\n",
            "\n"
          ]
        }
      ]
    },
    {
      "cell_type": "code",
      "source": [
        "# Drop those columns from the dataset\n",
        "data_cleaned = data.drop(columns=columns_to_drop)\n",
        "\n",
        "# Show the cleaned dataset with the columns dropped\n",
        "print(\"Dataset after dropping columns based an analysis:\")\n",
        "print(data_cleaned.head())"
      ],
      "metadata": {
        "id": "xJmFC-z_883Q",
        "colab": {
          "base_uri": "https://localhost:8080/"
        },
        "outputId": "0096a4fd-234a-421e-ffd2-ce44c4f6eec1"
      },
      "execution_count": 11,
      "outputs": [
        {
          "output_type": "stream",
          "name": "stdout",
          "text": [
            "Dataset after dropping columns based an analysis:\n",
            "  datePostedString            event          time     price  \\\n",
            "0       2021-01-13  Listed for sale  1.610496e+12  145000.0   \n",
            "1       2021-07-12  Listed for sale  1.626048e+12  675000.0   \n",
            "2       2021-07-08  Listed for sale  1.625702e+12  649000.0   \n",
            "3       2021-07-07  Listed for sale  1.625616e+12  599000.0   \n",
            "4       2021-07-07  Listed for sale  1.625616e+12  299000.0   \n",
            "\n",
            "   pricePerSquareFoot      city  yearBuilt     streetAddress  zipcode  \\\n",
            "0                 0.0  Gold Run          0  0 Moody Ridge Rd  95717.0   \n",
            "1               404.0    Pinole       1958    1476 Belden Ct  94564.0   \n",
            "2               459.0    Pinole       1959   3540 Savage Ave  94564.0   \n",
            "3               448.0    Pinole       1908      2391 Plum St  94564.0   \n",
            "4                 0.0    Pinole          0   2693 Appian Way  94564.0   \n",
            "\n",
            "    longitude  ...  parking garageSpaces  hasGarage     levels pool  spa  \\\n",
            "0 -120.834473  ...        0          0.0          0          0    0    0   \n",
            "1 -122.300613  ...        1          2.0          1  One Story    0    0   \n",
            "2 -122.271362  ...        1          2.0          1  One Story    0    0   \n",
            "3 -122.289230  ...        1          1.0          1  Two Story    0    1   \n",
            "4 -122.298439  ...        0          0.0          0          0    0    0   \n",
            "\n",
            "   isNewConstruction  hasPetsAllowed       homeType               county  \n",
            "0                  0               0            LOT        Placer County  \n",
            "1                  0               0  SINGLE_FAMILY  Contra Costa County  \n",
            "2                  0               0  SINGLE_FAMILY  Contra Costa County  \n",
            "3                  0               0  SINGLE_FAMILY  Contra Costa County  \n",
            "4                  0               0            LOT  Contra Costa County  \n",
            "\n",
            "[5 rows x 28 columns]\n"
          ]
        }
      ]
    },
    {
      "cell_type": "markdown",
      "source": [
        "# Cleaning Rows\n",
        "\n",
        "After dropping columns, next step is to clean the rows.\n",
        "\n",
        "This would include the following:\n",
        "* Identify duplicate rows using duplicated street addresses\n",
        "* Identify rows whose values need to be updated e.g.\n",
        "  1. Column \"homeType\" has one row which has value \"APARTMENT\" --> this should be changed to \"MULTI_FAMILY\"\n",
        "  2. Column event has 5 rows which has value \"Listed for rent\"\n",
        "* Identify rows where price (intended model output) is missing --> these rows should be deleted\n",
        "*\n",
        "\n",
        "\n",
        "\n"
      ],
      "metadata": {
        "id": "kDCl2DJDdt9b"
      }
    },
    {
      "cell_type": "code",
      "source": [
        "# Identify duplicate entries in the 'streetAddress' column\n",
        "duplicates = data_cleaned['streetAddress'].duplicated(keep=False)  # keep=False shows all duplicates\n",
        "\n",
        "# Print the index and streetAddress for rows with duplicates\n",
        "duplicate_entries = data_cleaned[duplicates][['streetAddress']]\n",
        "\n",
        "# Count the number of duplicate entries in 'streetAddress'\n",
        "num_duplicates = data_cleaned['streetAddress'].duplicated().sum()\n",
        "print(f\"Number of duplicate street addresses: {num_duplicates}\")\n",
        "\n",
        "# Print the index and streetAddress\n",
        "print(duplicate_entries)\n",
        "\n",
        "# Remove duplicate street addresses and keep only the first occurrence\n",
        "data_cleaned = data_cleaned.drop_duplicates(subset='streetAddress', keep='first')\n",
        "\n",
        "data_cleaned.info()"
      ],
      "metadata": {
        "id": "ykckIoVHp5LU",
        "outputId": "c410e425-2f16-44e6-c6eb-8d46fa1e7b54",
        "colab": {
          "base_uri": "https://localhost:8080/"
        }
      },
      "execution_count": 44,
      "outputs": [
        {
          "output_type": "stream",
          "name": "stdout",
          "text": [
            "Number of duplicate street addresses: 0\n",
            "Empty DataFrame\n",
            "Columns: [streetAddress]\n",
            "Index: []\n",
            "<class 'pandas.core.frame.DataFrame'>\n",
            "Index: 30906 entries, 0 to 35388\n",
            "Data columns (total 28 columns):\n",
            " #   Column              Non-Null Count  Dtype  \n",
            "---  ------              --------------  -----  \n",
            " 0   datePostedString    30904 non-null  object \n",
            " 1   event               30906 non-null  object \n",
            " 2   time                30906 non-null  float64\n",
            " 3   price               30906 non-null  float64\n",
            " 4   pricePerSquareFoot  30906 non-null  float64\n",
            " 5   city                30906 non-null  object \n",
            " 6   yearBuilt           30906 non-null  int64  \n",
            " 7   streetAddress       30905 non-null  object \n",
            " 8   zipcode             30884 non-null  float64\n",
            " 9   longitude           30906 non-null  float64\n",
            " 10  latitude            30906 non-null  float64\n",
            " 11  description         30669 non-null  object \n",
            " 12  livingArea          30906 non-null  float64\n",
            " 13  livingAreaValue     30906 non-null  float64\n",
            " 14  lotAreaUnits        30906 non-null  object \n",
            " 15  bathrooms           30906 non-null  float64\n",
            " 16  bedrooms            30906 non-null  float64\n",
            " 17  buildingArea        30906 non-null  float64\n",
            " 18  parking             30906 non-null  int64  \n",
            " 19  garageSpaces        30906 non-null  float64\n",
            " 20  hasGarage           30906 non-null  int64  \n",
            " 21  levels              30906 non-null  object \n",
            " 22  pool                30906 non-null  int64  \n",
            " 23  spa                 30906 non-null  int64  \n",
            " 24  isNewConstruction   30906 non-null  int64  \n",
            " 25  hasPetsAllowed      30906 non-null  int64  \n",
            " 26  homeType            30906 non-null  object \n",
            " 27  county              30906 non-null  object \n",
            "dtypes: float64(12), int64(7), object(9)\n",
            "memory usage: 6.8+ MB\n"
          ]
        }
      ]
    },
    {
      "cell_type": "code",
      "source": [
        "# Identify columns with missing values\n",
        "\n",
        "# Identify columns with missing values\n",
        "missing_values = data_cleaned.isnull().sum()\n",
        "\n",
        "# Filter the columns that have missing values\n",
        "columns_with_missing_values = missing_values[missing_values > 0]\n",
        "\n",
        "# Print the columns with missing values and the count of missing values\n",
        "print(\"Columns with missing values and counts of missing values:\")\n",
        "print(columns_with_missing_values)"
      ],
      "metadata": {
        "colab": {
          "base_uri": "https://localhost:8080/"
        },
        "id": "FKgSyIbqKF83",
        "outputId": "aca27d1d-c742-4f2a-9548-4b2b8e826dc8"
      },
      "execution_count": 12,
      "outputs": [
        {
          "output_type": "stream",
          "name": "stdout",
          "text": [
            "Columns with missing values and counts of missing values:\n",
            "datePostedString      3\n",
            "event               289\n",
            "time                289\n",
            "streetAddress         1\n",
            "zipcode              25\n",
            "description         279\n",
            "dtype: int64\n"
          ]
        }
      ]
    },
    {
      "cell_type": "code",
      "source": [
        "# Identify instances of rows which have no price listed\n",
        "\n",
        "# First ensure that all values in the 'price' column are converted to numeric\n",
        "data_cleaned['price'] = pd.to_numeric(data['price'], errors='coerce')\n",
        "\n",
        "# Identify count of rows with missing values or ZERO values in the 'price' column\n",
        "no_price = data_cleaned[data_cleaned['price'].isna() | (data_cleaned['price'] == 0) | (data_cleaned['price'] < 100)]\n",
        "\n",
        "# Print count of no_price\n",
        "print(\"Count of rows with no price listed:\")\n",
        "print(len(no_price))  # Print the count of rows with no price listed\n",
        "\n"
      ],
      "metadata": {
        "colab": {
          "base_uri": "https://localhost:8080/"
        },
        "id": "qeNHmn0SLgTq",
        "outputId": "45a2d6bc-72c8-430a-d04a-4594360aaf59"
      },
      "execution_count": 13,
      "outputs": [
        {
          "output_type": "stream",
          "name": "stdout",
          "text": [
            "Count of rows with no price listed:\n",
            "320\n"
          ]
        }
      ]
    },
    {
      "cell_type": "code",
      "source": [
        "# Drop rows with zero price\n",
        "data_cleaned.drop(data_cleaned[data_cleaned['price'] == 0].index, inplace=True)\n",
        "data_cleaned.drop(data_cleaned[data_cleaned['price'] == 1].index, inplace=True)\n"
      ],
      "metadata": {
        "id": "ted7DRPMTHVX"
      },
      "execution_count": 14,
      "outputs": []
    },
    {
      "cell_type": "code",
      "source": [
        "# Get the describe output as a DataFrame\n",
        "desc_stats = data_cleaned.describe()\n",
        "\n",
        "# Apply formatting to the interested columns\n",
        "desc_stats['price'] = desc_stats['price'].apply(lambda x: '{:.0f}'.format(x))\n",
        "desc_stats['livingArea'] = desc_stats['livingArea'].apply(lambda x: '{:.0f}'.format(x))\n",
        "desc_stats['bedrooms'] = desc_stats['bedrooms'].apply(lambda x: '{:.0f}'.format(x))\n",
        "desc_stats['bathrooms'] = desc_stats['bathrooms'].apply(lambda x: '{:.0f}'.format(x))\n",
        "\n",
        "\n",
        "selected_columns = desc_stats[['price', 'livingArea', 'bedrooms', 'bathrooms']]\n",
        "# Print the formatted describe output\n",
        "print(selected_columns)"
      ],
      "metadata": {
        "colab": {
          "base_uri": "https://localhost:8080/"
        },
        "id": "SOOPNk-XJ81y",
        "outputId": "d65df84e-6498-448d-e1d4-84ae6064839d"
      },
      "execution_count": 15,
      "outputs": [
        {
          "output_type": "stream",
          "name": "stdout",
          "text": [
            "          price livingArea bedrooms bathrooms\n",
            "count     35069      35069    35069     35069\n",
            "mean    1198728       3101        3         2\n",
            "std     2574038      83854        2         2\n",
            "min         650          0        0         0\n",
            "25%      409000        908        2         1\n",
            "50%      699000       1510        3         2\n",
            "75%     1200000       2243        4         3\n",
            "max    95000000    9061351       99        58\n"
          ]
        }
      ]
    },
    {
      "cell_type": "code",
      "source": [
        "import matplotlib.pyplot as plt\n",
        "\n",
        "# Plotting the distribution of housing prices\n",
        "plt.hist(data_cleaned['price'], bins=50, edgecolor='black')\n",
        "plt.title('Distribution of Housing Prices')\n",
        "plt.xlabel('Price')\n",
        "plt.ylabel('Frequency')\n",
        "plt.show()\n"
      ],
      "metadata": {
        "colab": {
          "base_uri": "https://localhost:8080/",
          "height": 472
        },
        "id": "m1_be0BmEgUf",
        "outputId": "2acee82d-8380-45d3-8f9c-209ca3ad28df"
      },
      "execution_count": 16,
      "outputs": [
        {
          "output_type": "display_data",
          "data": {
            "text/plain": [
              "<Figure size 640x480 with 1 Axes>"
            ],
            "image/png": "[encoded data removed]"
          },
          "metadata": {}
        }
      ]
    },
    {
      "cell_type": "code",
      "source": [
        "import numpy as np\n",
        "\n",
        "# Apply log transformation to prices to reduce skewness\n",
        "log_prices = np.log1p(data_cleaned['price'])  # np.log1p ensures log(0) works properly\n",
        "\n",
        "# Plotting the log-transformed distribution of housing prices\n",
        "plt.hist(log_prices, bins=50, edgecolor='black')\n",
        "plt.title('Log-Transformed Distribution of Housing Prices')\n",
        "plt.xlabel('Log(Price)')\n",
        "plt.ylabel('Frequency')\n",
        "plt.show()"
      ],
      "metadata": {
        "colab": {
          "base_uri": "https://localhost:8080/",
          "height": 472
        },
        "id": "dw-u9OOsIUbb",
        "outputId": "909f8154-ff70-4ac5-da5d-13d1610e75ab"
      },
      "execution_count": 17,
      "outputs": [
        {
          "output_type": "display_data",
          "data": {
            "text/plain": [
              "<Figure size 640x480 with 1 Axes>"
            ],
            "image/png": "[encoded data removed]"
          },
          "metadata": {}
        }
      ]
    },
    {
      "cell_type": "code",
      "source": [
        "# Scatter plot for living area vs price\n",
        "plt.scatter(data_cleaned['livingArea'], data_cleaned['price'])\n",
        "plt.title('Living Area vs Housing Price')\n",
        "plt.xlabel('Living Area (sq ft)')\n",
        "plt.ylabel('Price')\n",
        "plt.show()"
      ],
      "metadata": {
        "colab": {
          "base_uri": "https://localhost:8080/",
          "height": 472
        },
        "id": "81W2JCBwFA0l",
        "outputId": "3d769542-794f-427c-f58e-2c148925df9e"
      },
      "execution_count": 19,
      "outputs": [
        {
          "output_type": "display_data",
          "data": {
            "text/plain": [
              "<Figure size 640x480 with 1 Axes>"
            ],
            "image/png": "[encoded data removed]"
          },
          "metadata": {}
        }
      ]
    },
    {
      "cell_type": "code",
      "source": [
        "# Box plot for home type vs price\n",
        "sns.boxplot(x='homeType', y='price', data=data_cleaned)\n",
        "plt.title('Home Type vs Housing Price')\n",
        "plt.show()"
      ],
      "metadata": {
        "colab": {
          "base_uri": "https://localhost:8080/",
          "height": 472
        },
        "id": "4tpM4zwZFMVZ",
        "outputId": "9d2319f1-4290-44ab-e12f-a9c38423fca3"
      },
      "execution_count": 20,
      "outputs": [
        {
          "output_type": "display_data",
          "data": {
            "text/plain": [
              "<Figure size 640x480 with 1 Axes>"
            ],
            "image/png": "[encoded data removed]"
          },
          "metadata": {}
        }
      ]
    },
    {
      "cell_type": "code",
      "source": [
        "# box plot of housing prices\n",
        "\n",
        "import seaborn as sns\n",
        "sns.boxplot(x=data_cleaned['price'])\n",
        "plt.title('Box Plot of Housing Prices')\n",
        "plt.show()"
      ],
      "metadata": {
        "colab": {
          "base_uri": "https://localhost:8080/",
          "height": 472
        },
        "id": "0jo419zNF40L",
        "outputId": "f2c9a31c-9d3e-4dd2-b467-5021ef4de362"
      },
      "execution_count": 21,
      "outputs": [
        {
          "output_type": "display_data",
          "data": {
            "text/plain": [
              "<Figure size 640x480 with 1 Axes>"
            ],
            "image/png": "[encoded data removed]"
          },
          "metadata": {}
        }
      ]
    }
  ]
}