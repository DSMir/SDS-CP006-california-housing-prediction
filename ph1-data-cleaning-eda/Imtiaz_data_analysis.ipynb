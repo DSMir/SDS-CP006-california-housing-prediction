{
  "nbformat": 4,
  "nbformat_minor": 0,
  "metadata": {
    "colab": {
      "provenance": []
    },
    "kernelspec": {
      "name": "python3",
      "display_name": "Python 3"
    },
    "language_info": {
      "name": "python"
    }
  },
  "cells": [
    {
      "cell_type": "markdown",
      "source": [
        "# Importing dataset directly from Kaggle into Colab"
      ],
      "metadata": {
        "id": "-dPk5U4B_D2G"
      }
    },
    {
      "cell_type": "code",
      "execution_count": null,
      "metadata": {
        "id": "iz8wOSNI0sJo",
        "colab": {
          "base_uri": "https://localhost:8080/"
        },
        "outputId": "0bd16dfc-ef6b-431f-e433-af4ae15168a2"
      },
      "outputs": [
        {
          "output_type": "stream",
          "name": "stdout",
          "text": [
            "Collecting opendatasets\n",
            "  Downloading opendatasets-0.1.22-py3-none-any.whl.metadata (9.2 kB)\n",
            "Requirement already satisfied: tqdm in /usr/local/lib/python3.10/dist-packages (from opendatasets) (4.66.5)\n",
            "Requirement already satisfied: kaggle in /usr/local/lib/python3.10/dist-packages (from opendatasets) (1.6.17)\n",
            "Requirement already satisfied: click in /usr/local/lib/python3.10/dist-packages (from opendatasets) (8.1.7)\n",
            "Requirement already satisfied: six>=1.10 in /usr/local/lib/python3.10/dist-packages (from kaggle->opendatasets) (1.16.0)\n",
            "Requirement already satisfied: certifi>=2023.7.22 in /usr/local/lib/python3.10/dist-packages (from kaggle->opendatasets) (2024.8.30)\n",
            "Requirement already satisfied: python-dateutil in /usr/local/lib/python3.10/dist-packages (from kaggle->opendatasets) (2.8.2)\n",
            "Requirement already satisfied: requests in /usr/local/lib/python3.10/dist-packages (from kaggle->opendatasets) (2.32.3)\n",
            "Requirement already satisfied: python-slugify in /usr/local/lib/python3.10/dist-packages (from kaggle->opendatasets) (8.0.4)\n",
            "Requirement already satisfied: urllib3 in /usr/local/lib/python3.10/dist-packages (from kaggle->opendatasets) (2.0.7)\n",
            "Requirement already satisfied: bleach in /usr/local/lib/python3.10/dist-packages (from kaggle->opendatasets) (6.1.0)\n",
            "Requirement already satisfied: webencodings in /usr/local/lib/python3.10/dist-packages (from bleach->kaggle->opendatasets) (0.5.1)\n",
            "Requirement already satisfied: text-unidecode>=1.3 in /usr/local/lib/python3.10/dist-packages (from python-slugify->kaggle->opendatasets) (1.3)\n",
            "Requirement already satisfied: charset-normalizer<4,>=2 in /usr/local/lib/python3.10/dist-packages (from requests->kaggle->opendatasets) (3.3.2)\n",
            "Requirement already satisfied: idna<4,>=2.5 in /usr/local/lib/python3.10/dist-packages (from requests->kaggle->opendatasets) (3.8)\n",
            "Downloading opendatasets-0.1.22-py3-none-any.whl (15 kB)\n",
            "Installing collected packages: opendatasets\n",
            "Successfully installed opendatasets-0.1.22\n",
            "Please provide your Kaggle credentials to download this dataset. Learn more: http://bit.ly/kaggle-creds\n",
            "Your Kaggle username: syedimtiazmir\n",
            "Your Kaggle Key: ··········\n",
            "Dataset URL: https://www.kaggle.com/datasets/yellowj4acket/real-estate-california\n",
            "Downloading real-estate-california.zip to ./real-estate-california\n"
          ]
        },
        {
          "output_type": "stream",
          "name": "stderr",
          "text": [
            "100%|██████████| 11.4M/11.4M [00:00<00:00, 26.0MB/s]\n"
          ]
        },
        {
          "output_type": "stream",
          "name": "stdout",
          "text": [
            "\n"
          ]
        }
      ],
      "source": [
        "# Code to import dataset directly from Kaggle into Colab\n",
        "# Need to have Kaggle user name and API token key (which may expire so new API token key might need to be generated)\n",
        "\n",
        "!pip install opendatasets\n",
        "import opendatasets as od\n",
        "od.download(\"https://www.kaggle.com/datasets/yellowj4acket/real-estate-california\")\n"
      ]
    },
    {
      "cell_type": "code",
      "source": [
        "# Import necessary libraries\n",
        "import pandas as pd\n",
        "import numpy as np\n",
        "import matplotlib.pyplot as plt\n",
        "import seaborn as sns\n",
        "\n",
        "# load the dataset\n",
        "data = pd.read_csv('/content/real-estate-california/RealEstate_California.csv')\n",
        "\n",
        "data.head()\n",
        "\n"
      ],
      "metadata": {
        "id": "OZAyDjZ04PJI"
      },
      "execution_count": null,
      "outputs": []
    },
    {
      "cell_type": "code",
      "source": [
        "# info about dataset\n",
        "data.shape"
      ],
      "metadata": {
        "colab": {
          "base_uri": "https://localhost:8080/"
        },
        "id": "mnLY1oD_-nPZ",
        "outputId": "fae176ab-080b-44ec-d5ef-f953556df7ac"
      },
      "execution_count": null,
      "outputs": [
        {
          "output_type": "execute_result",
          "data": {
            "text/plain": [
              "(35389, 39)"
            ]
          },
          "metadata": {},
          "execution_count": 33
        }
      ]
    },
    {
      "cell_type": "code",
      "source": [
        "data.info()"
      ],
      "metadata": {
        "colab": {
          "base_uri": "https://localhost:8080/"
        },
        "id": "_AFCIlKKLgVP",
        "outputId": "9c9ee6a5-394b-484d-a1a8-1741b9441089"
      },
      "execution_count": null,
      "outputs": [
        {
          "output_type": "stream",
          "name": "stdout",
          "text": [
            "<class 'pandas.core.frame.DataFrame'>\n",
            "RangeIndex: 35389 entries, 0 to 35388\n",
            "Data columns (total 39 columns):\n",
            " #   Column              Non-Null Count  Dtype  \n",
            "---  ------              --------------  -----  \n",
            " 0   Unnamed: 0          35389 non-null  int64  \n",
            " 1   id                  35389 non-null  object \n",
            " 2   stateId             35389 non-null  int64  \n",
            " 3   countyId            35389 non-null  int64  \n",
            " 4   cityId              35389 non-null  int64  \n",
            " 5   country             35389 non-null  object \n",
            " 6   datePostedString    35386 non-null  object \n",
            " 7   is_bankOwned        35389 non-null  int64  \n",
            " 8   is_forAuction       35389 non-null  int64  \n",
            " 9   event               35100 non-null  object \n",
            " 10  time                35100 non-null  float64\n",
            " 11  price               35389 non-null  float64\n",
            " 12  pricePerSquareFoot  35389 non-null  float64\n",
            " 13  city                35389 non-null  object \n",
            " 14  state               35389 non-null  object \n",
            " 15  yearBuilt           35389 non-null  int64  \n",
            " 16  streetAddress       35388 non-null  object \n",
            " 17  zipcode             35364 non-null  float64\n",
            " 18  longitude           35389 non-null  float64\n",
            " 19  latitude            35389 non-null  float64\n",
            " 20  hasBadGeocode       35389 non-null  int64  \n",
            " 21  description         35110 non-null  object \n",
            " 22  currency            35389 non-null  object \n",
            " 23  livingArea          35389 non-null  float64\n",
            " 24  livingAreaValue     35389 non-null  float64\n",
            " 25  lotAreaUnits        35389 non-null  object \n",
            " 26  bathrooms           35389 non-null  float64\n",
            " 27  bedrooms            35389 non-null  float64\n",
            " 28  buildingArea        35389 non-null  float64\n",
            " 29  parking             35389 non-null  int64  \n",
            " 30  garageSpaces        35389 non-null  float64\n",
            " 31  hasGarage           35389 non-null  int64  \n",
            " 32  levels              35389 non-null  object \n",
            " 33  pool                35389 non-null  int64  \n",
            " 34  spa                 35389 non-null  int64  \n",
            " 35  isNewConstruction   35389 non-null  int64  \n",
            " 36  hasPetsAllowed      35389 non-null  int64  \n",
            " 37  homeType            35389 non-null  object \n",
            " 38  county              35389 non-null  object \n",
            "dtypes: float64(12), int64(14), object(13)\n",
            "memory usage: 10.5+ MB\n"
          ]
        }
      ]
    },
    {
      "cell_type": "markdown",
      "source": [
        "# Identifying columns to be dropped\n",
        "1. Columns which have data that have no relevance to price prediction e.g. Serial # (Unnamed: 0), id\n",
        "2. Columns which have duplicate information e.g. countyId, cityId\n",
        "3. Columns which have only one value in the dataset\n",
        "4. Columns which only have limited value instances e.g. is_bankOwned"
      ],
      "metadata": {
        "id": "X1obMiBY_zmN"
      }
    },
    {
      "cell_type": "code",
      "source": [
        "# Initialize an empty list to store column names to drop\n",
        "columns_to_drop = []\n",
        "\n",
        "# Dropping irrelevant columns\n",
        "columns_to_drop.extend(['Unnamed: 0', 'id'])\n",
        "\n",
        "# Dropping duplicate columns\n",
        "columns_to_drop.extend(['countyId', 'cityId'])\n",
        "\n",
        "\n",
        "# Identify columns with only one unique value\n",
        "one_unique_col = []\n",
        "\n",
        "for column in data.columns:\n",
        "    if data[column].nunique() == 1:\n",
        "        one_unique_col.append((column, data[column].nunique()))\n",
        "        columns_to_drop.append(column)\n",
        "\n",
        "# Print columns with only one unique value and the count of unique values\n",
        "print(\"Columns to drop (having only one unique value):\")\n",
        "for column, unique_count in one_unique_col:\n",
        "    print(f\"Column: {column}, Unique Values: {unique_count}\")\n",
        "\n",
        "\n",
        "print(\"\\nRunnnig List of columns to drop:\")\n",
        "print(columns_to_drop)\n",
        "print(\"\\n\")"
      ],
      "metadata": {
        "colab": {
          "base_uri": "https://localhost:8080/"
        },
        "id": "jV9-STmw761M",
        "outputId": "011b129e-6805-4b51-f24e-6335312ca3a3"
      },
      "execution_count": 72,
      "outputs": [
        {
          "output_type": "stream",
          "name": "stdout",
          "text": [
            "Columns to drop (having only one unique value):\n",
            "Column: stateId, Unique Values: 1\n",
            "Column: country, Unique Values: 1\n",
            "Column: state, Unique Values: 1\n",
            "Column: currency, Unique Values: 1\n",
            "\n",
            "Runnnig List of columns to drop:\n",
            "['Unnamed: 0', 'id', 'countyId', 'cityId', 'stateId', 'country', 'state', 'currency']\n",
            "\n",
            "\n"
          ]
        }
      ]
    },
    {
      "cell_type": "code",
      "source": [
        "# Identify columns with limited unique values and their counts\n",
        "LIMITED_UNIQUE = 10             # constant to define how many unique values we may want to consider\n",
        "limited_unique_col = []\n",
        "limited_unique_col_counts = {} #dictionary to store column names and their unique values\n",
        "\n",
        "for column in data.columns:\n",
        "    if data[column].nunique() > 1 and data[column].nunique() < LIMITED_UNIQUE:\n",
        "        limited_unique_col.append((column, data[column].nunique()))\n",
        "        unique_values_counts = data[column].value_counts()\n",
        "        limited_unique_col_counts[column] = unique_values_counts\n",
        "\n",
        "\n",
        "\n",
        "print(\"=\"*50)\n",
        "\n",
        "# Print columns with fewer than LIMITED_UNIQUE values and the count of unique values\n",
        "print(f\"\\nColumns with fewer than {LIMITED_UNIQUE} unique values:\")\n",
        "for column, unique_count in limited_unique_col:\n",
        "  print(f\"Column: {column}, Unique Values: {unique_count}\")\n",
        "\n",
        "print(\"\\n\" + \"=\"*50 + \"\\n\\n\")\n",
        "# Print the unique values and their counts for columns with fewer than COUNT_INSTANCES values\n",
        "COUNT_INSTANCES = 50\n",
        "print(f\"Unique values and their counts for columns with fewer than {COUNT_INSTANCES} unique values:\\n\")\n",
        "for column, unique_values_counts in limited_unique_col_counts.items():\n",
        "  if (unique_values_counts < COUNT_INSTANCES).any():\n",
        "    print(f\"Column: {column}\")\n",
        "    print(unique_values_counts)\n",
        "    #print(unique_values_counts.sum())\n",
        "    print(\"=\"*50)\n"
      ],
      "metadata": {
        "colab": {
          "base_uri": "https://localhost:8080/"
        },
        "id": "IyUbTFdaNuId",
        "outputId": "66db120f-2e5e-4fea-9ffd-6abe67d38930"
      },
      "execution_count": 73,
      "outputs": [
        {
          "output_type": "stream",
          "name": "stdout",
          "text": [
            "==================================================\n",
            "\n",
            "Columns with fewer than 10 unique values:\n",
            "Column: is_bankOwned, Unique Values: 2\n",
            "Column: is_forAuction, Unique Values: 2\n",
            "Column: event, Unique Values: 6\n",
            "Column: hasBadGeocode, Unique Values: 2\n",
            "Column: lotAreaUnits, Unique Values: 2\n",
            "Column: parking, Unique Values: 2\n",
            "Column: hasGarage, Unique Values: 2\n",
            "Column: pool, Unique Values: 2\n",
            "Column: spa, Unique Values: 2\n",
            "Column: isNewConstruction, Unique Values: 2\n",
            "Column: hasPetsAllowed, Unique Values: 2\n",
            "Column: homeType, Unique Values: 6\n",
            "\n",
            "==================================================\n",
            "\n",
            "\n",
            "Unique values and their counts for columns with fewer than 50 unique values:\n",
            "\n",
            "Column: is_bankOwned\n",
            "is_bankOwned\n",
            "0    35386\n",
            "1        3\n",
            "Name: count, dtype: int64\n",
            "==================================================\n",
            "Column: is_forAuction\n",
            "is_forAuction\n",
            "0    35363\n",
            "1       26\n",
            "Name: count, dtype: int64\n",
            "==================================================\n",
            "Column: event\n",
            "event\n",
            "Listed for sale    24622\n",
            "Price change        4893\n",
            "Listing removed     4311\n",
            "Sold                1268\n",
            "Listed for rent        5\n",
            "Pending sale           1\n",
            "Name: count, dtype: int64\n",
            "==================================================\n",
            "Column: hasBadGeocode\n",
            "hasBadGeocode\n",
            "0    35386\n",
            "1        3\n",
            "Name: count, dtype: int64\n",
            "==================================================\n",
            "Column: homeType\n",
            "homeType\n",
            "SINGLE_FAMILY    22409\n",
            "LOT               5850\n",
            "CONDO             3495\n",
            "MULTI_FAMILY      2446\n",
            "TOWNHOUSE         1188\n",
            "APARTMENT            1\n",
            "Name: count, dtype: int64\n",
            "==================================================\n"
          ]
        }
      ]
    },
    {
      "cell_type": "code",
      "source": [
        "# Using output from above eliminating columns that have limited number of unique instances\n",
        "# these include is_bankOwned, is_forAuction, hasBadGeocode\n",
        "\n",
        "columns_to_drop.extend(['is_bankOwned', 'is_forAuction', 'hasBadGeocode'])\n",
        "print(\"\\nRunnnig List of columns to drop:\")\n",
        "print(columns_to_drop)\n",
        "print(\"\\n\")\n"
      ],
      "metadata": {
        "colab": {
          "base_uri": "https://localhost:8080/"
        },
        "id": "LuE-3nVGaYl7",
        "outputId": "2b88b0dc-9884-4ddd-a6c0-d1a4afdb6b63"
      },
      "execution_count": 74,
      "outputs": [
        {
          "output_type": "stream",
          "name": "stdout",
          "text": [
            "\n",
            "Runnnig List of columns to drop:\n",
            "['Unnamed: 0', 'id', 'countyId', 'cityId', 'stateId', 'country', 'state', 'currency', 'is_bankOwned', 'is_forAuction', 'hasBadGeocode']\n",
            "\n",
            "\n"
          ]
        }
      ]
    },
    {
      "cell_type": "code",
      "source": [
        "# Drop those columns from the dataset\n",
        "# data_cleaned = data.drop(columns=columns_to_drop)\n",
        "\n",
        "# Show the cleaned dataset with the columns dropped\n",
        "# print(\"Dataset after dropping columns based an analysis:\")\n",
        "# print(data_cleaned.head())"
      ],
      "metadata": {
        "id": "xJmFC-z_883Q"
      },
      "execution_count": null,
      "outputs": []
    },
    {
      "cell_type": "markdown",
      "source": [
        "# Cleaning Rows\n",
        "\n",
        "After dropping columns, next step is to clean the rows.\n",
        "\n",
        "This would include the following:\n",
        "* Identify rows whose values need to be updated e.g.\n",
        "  1. Column \"homeType\" has one row which has value \"APARTMENT\" --> this should be changed to \"MULTI_FAMILY\"\n",
        "  2. Column event has 5 rows which has value \"Listed for rent\"\n",
        "* Identify rows where price (intended model output) is missing --> these rows should be deleted\n",
        "*\n",
        "\n",
        "\n",
        "\n"
      ],
      "metadata": {
        "id": "kDCl2DJDdt9b"
      }
    },
    {
      "cell_type": "code",
      "source": [
        "# Identify columns with missing values\n",
        "\n",
        "# Identify columns with missing values\n",
        "missing_values = data.isnull().sum()\n",
        "\n",
        "# Filter the columns that have missing values\n",
        "columns_with_missing_values = missing_values[missing_values > 0]\n",
        "\n",
        "# Print the columns with missing values and the count of missing values\n",
        "print(\"Columns with missing values and counts of missing values:\")\n",
        "print(columns_with_missing_values)"
      ],
      "metadata": {
        "colab": {
          "base_uri": "https://localhost:8080/"
        },
        "id": "FKgSyIbqKF83",
        "outputId": "2a6588dd-0ab8-4cbd-8d3f-4d0372be37ab"
      },
      "execution_count": null,
      "outputs": [
        {
          "output_type": "stream",
          "name": "stdout",
          "text": [
            "Columns with missing values and counts of missing values:\n",
            "datePostedString      3\n",
            "event               289\n",
            "time                289\n",
            "streetAddress         1\n",
            "zipcode              25\n",
            "description         279\n",
            "dtype: int64\n"
          ]
        }
      ]
    },
    {
      "cell_type": "code",
      "source": [
        "# Identify instances of rows which have no price listed\n",
        "\n",
        "# First ensure that all values in the 'price' column are converted to numeric\n",
        "data['price'] = pd.to_numeric(data['price'], errors='coerce')\n",
        "\n",
        "# Identify count of rows with missing values or ZERO values in the 'price' column\n",
        "no_price = data[data['price'].isna() | (data['price'] == 0)]\n",
        "# no_price = data[data['price'] == 0]\n",
        "\n",
        "# Print count of no_price\n",
        "print(\"Count of rows with no price listed:\")\n",
        "print(len(no_price))  # Print the count of rows with no price listed\n",
        "\n"
      ],
      "metadata": {
        "colab": {
          "base_uri": "https://localhost:8080/"
        },
        "id": "qeNHmn0SLgTq",
        "outputId": "f2de5ccb-904f-415b-802d-c315ccede3b7"
      },
      "execution_count": null,
      "outputs": [
        {
          "output_type": "stream",
          "name": "stdout",
          "text": [
            "Count of rows with no price listed:\n",
            "319\n"
          ]
        }
      ]
    }
  ]
}