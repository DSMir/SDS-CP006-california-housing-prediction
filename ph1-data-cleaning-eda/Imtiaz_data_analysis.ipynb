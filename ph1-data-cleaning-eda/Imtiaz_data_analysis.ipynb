{
  "nbformat": 4,
  "nbformat_minor": 0,
  "metadata": {
    "colab": {
      "provenance": []
    },
    "kernelspec": {
      "name": "python3",
      "display_name": "Python 3"
    },
    "language_info": {
      "name": "python"
    }
  },
  "cells": [
    {
      "cell_type": "markdown",
      "source": [
        "# Importing dataset directly from Kaggle into Colab"
      ],
      "metadata": {
        "id": "-dPk5U4B_D2G"
      }
    },
    {
      "cell_type": "code",
      "execution_count": null,
      "metadata": {
        "id": "iz8wOSNI0sJo",
        "colab": {
          "base_uri": "https://localhost:8080/"
        },
        "outputId": "0bd16dfc-ef6b-431f-e433-af4ae15168a2"
      },
      "outputs": [
        {
          "output_type": "stream",
          "name": "stdout",
          "text": [
            "Collecting opendatasets\n",
            "  Downloading opendatasets-0.1.22-py3-none-any.whl.metadata (9.2 kB)\n",
            "Requirement already satisfied: tqdm in /usr/local/lib/python3.10/dist-packages (from opendatasets) (4.66.5)\n",
            "Requirement already satisfied: kaggle in /usr/local/lib/python3.10/dist-packages (from opendatasets) (1.6.17)\n",
            "Requirement already satisfied: click in /usr/local/lib/python3.10/dist-packages (from opendatasets) (8.1.7)\n",
            "Requirement already satisfied: six>=1.10 in /usr/local/lib/python3.10/dist-packages (from kaggle->opendatasets) (1.16.0)\n",
            "Requirement already satisfied: certifi>=2023.7.22 in /usr/local/lib/python3.10/dist-packages (from kaggle->opendatasets) (2024.8.30)\n",
            "Requirement already satisfied: python-dateutil in /usr/local/lib/python3.10/dist-packages (from kaggle->opendatasets) (2.8.2)\n",
            "Requirement already satisfied: requests in /usr/local/lib/python3.10/dist-packages (from kaggle->opendatasets) (2.32.3)\n",
            "Requirement already satisfied: python-slugify in /usr/local/lib/python3.10/dist-packages (from kaggle->opendatasets) (8.0.4)\n",
            "Requirement already satisfied: urllib3 in /usr/local/lib/python3.10/dist-packages (from kaggle->opendatasets) (2.0.7)\n",
            "Requirement already satisfied: bleach in /usr/local/lib/python3.10/dist-packages (from kaggle->opendatasets) (6.1.0)\n",
            "Requirement already satisfied: webencodings in /usr/local/lib/python3.10/dist-packages (from bleach->kaggle->opendatasets) (0.5.1)\n",
            "Requirement already satisfied: text-unidecode>=1.3 in /usr/local/lib/python3.10/dist-packages (from python-slugify->kaggle->opendatasets) (1.3)\n",
            "Requirement already satisfied: charset-normalizer<4,>=2 in /usr/local/lib/python3.10/dist-packages (from requests->kaggle->opendatasets) (3.3.2)\n",
            "Requirement already satisfied: idna<4,>=2.5 in /usr/local/lib/python3.10/dist-packages (from requests->kaggle->opendatasets) (3.8)\n",
            "Downloading opendatasets-0.1.22-py3-none-any.whl (15 kB)\n",
            "Installing collected packages: opendatasets\n",
            "Successfully installed opendatasets-0.1.22\n",
            "Please provide your Kaggle credentials to download this dataset. Learn more: http://bit.ly/kaggle-creds\n",
            "Your Kaggle username: syedimtiazmir\n",
            "Your Kaggle Key: ··········\n",
            "Dataset URL: https://www.kaggle.com/datasets/yellowj4acket/real-estate-california\n",
            "Downloading real-estate-california.zip to ./real-estate-california\n"
          ]
        },
        {
          "output_type": "stream",
          "name": "stderr",
          "text": [
            "100%|██████████| 11.4M/11.4M [00:00<00:00, 26.0MB/s]\n"
          ]
        },
        {
          "output_type": "stream",
          "name": "stdout",
          "text": [
            "\n"
          ]
        }
      ],
      "source": [
        "# Code to import dataset directly from Kaggle into Colab\n",
        "# Need to have Kaggle user name and API token key (which may expire so new API token key might need to be generated)\n",
        "\n",
        "!pip install opendatasets\n",
        "import opendatasets as od\n",
        "od.download(\"https://www.kaggle.com/datasets/yellowj4acket/real-estate-california\")\n"
      ]
    },
    {
      "cell_type": "code",
      "source": [
        "# Import necessary libraries\n",
        "import pandas as pd\n",
        "import numpy as np\n",
        "import matplotlib.pyplot as plt\n",
        "import seaborn as sns\n",
        "\n",
        "# load the dataset\n",
        "data = pd.read_csv('/content/real-estate-california/RealEstate_California.csv')\n",
        "\n",
        "data.head()\n",
        "\n"
      ],
      "metadata": {
        "id": "OZAyDjZ04PJI"
      },
      "execution_count": null,
      "outputs": []
    },
    {
      "cell_type": "code",
      "source": [
        "# info about dataset\n",
        "data.shape"
      ],
      "metadata": {
        "colab": {
          "base_uri": "https://localhost:8080/"
        },
        "id": "mnLY1oD_-nPZ",
        "outputId": "fae176ab-080b-44ec-d5ef-f953556df7ac"
      },
      "execution_count": null,
      "outputs": [
        {
          "output_type": "execute_result",
          "data": {
            "text/plain": [
              "(35389, 39)"
            ]
          },
          "metadata": {},
          "execution_count": 33
        }
      ]
    },
    {
      "cell_type": "code",
      "source": [
        "data.info()"
      ],
      "metadata": {
        "colab": {
          "base_uri": "https://localhost:8080/"
        },
        "id": "_AFCIlKKLgVP",
        "outputId": "9c9ee6a5-394b-484d-a1a8-1741b9441089"
      },
      "execution_count": null,
      "outputs": [
        {
          "output_type": "stream",
          "name": "stdout",
          "text": [
            "<class 'pandas.core.frame.DataFrame'>\n",
            "RangeIndex: 35389 entries, 0 to 35388\n",
            "Data columns (total 39 columns):\n",
            " #   Column              Non-Null Count  Dtype  \n",
            "---  ------              --------------  -----  \n",
            " 0   Unnamed: 0          35389 non-null  int64  \n",
            " 1   id                  35389 non-null  object \n",
            " 2   stateId             35389 non-null  int64  \n",
            " 3   countyId            35389 non-null  int64  \n",
            " 4   cityId              35389 non-null  int64  \n",
            " 5   country             35389 non-null  object \n",
            " 6   datePostedString    35386 non-null  object \n",
            " 7   is_bankOwned        35389 non-null  int64  \n",
            " 8   is_forAuction       35389 non-null  int64  \n",
            " 9   event               35100 non-null  object \n",
            " 10  time                35100 non-null  float64\n",
            " 11  price               35389 non-null  float64\n",
            " 12  pricePerSquareFoot  35389 non-null  float64\n",
            " 13  city                35389 non-null  object \n",
            " 14  state               35389 non-null  object \n",
            " 15  yearBuilt           35389 non-null  int64  \n",
            " 16  streetAddress       35388 non-null  object \n",
            " 17  zipcode             35364 non-null  float64\n",
            " 18  longitude           35389 non-null  float64\n",
            " 19  latitude            35389 non-null  float64\n",
            " 20  hasBadGeocode       35389 non-null  int64  \n",
            " 21  description         35110 non-null  object \n",
            " 22  currency            35389 non-null  object \n",
            " 23  livingArea          35389 non-null  float64\n",
            " 24  livingAreaValue     35389 non-null  float64\n",
            " 25  lotAreaUnits        35389 non-null  object \n",
            " 26  bathrooms           35389 non-null  float64\n",
            " 27  bedrooms            35389 non-null  float64\n",
            " 28  buildingArea        35389 non-null  float64\n",
            " 29  parking             35389 non-null  int64  \n",
            " 30  garageSpaces        35389 non-null  float64\n",
            " 31  hasGarage           35389 non-null  int64  \n",
            " 32  levels              35389 non-null  object \n",
            " 33  pool                35389 non-null  int64  \n",
            " 34  spa                 35389 non-null  int64  \n",
            " 35  isNewConstruction   35389 non-null  int64  \n",
            " 36  hasPetsAllowed      35389 non-null  int64  \n",
            " 37  homeType            35389 non-null  object \n",
            " 38  county              35389 non-null  object \n",
            "dtypes: float64(12), int64(14), object(13)\n",
            "memory usage: 10.5+ MB\n"
          ]
        }
      ]
    },
    {
      "cell_type": "markdown",
      "source": [
        "# Identifying columns to be dropped\n",
        "1. Columns which have data that have no relevance to price prediction e.g. Serial # (Unnamed: 0), id\n",
        "2. Columns which have duplicate information e.g. countyId, cityId\n",
        "3. Columns which have only one value in the dataset\n",
        "4. Columns which only have limited value instances e.g. is_bankOwned"
      ],
      "metadata": {
        "id": "X1obMiBY_zmN"
      }
    },
    {
      "cell_type": "code",
      "source": [
        "# Initialize an empty list to store column names to drop\n",
        "columns_to_drop = []\n",
        "\n",
        "# Dropping irrelevant columns\n",
        "columns_to_drop.extend(['Unnamed: 0', 'id'])\n",
        "\n",
        "# Dropping duplicate columns\n",
        "columns_to_drop.extend(['countyId', 'cityId'])\n",
        "\n",
        "\n",
        "# Identify columns with only one unique value\n",
        "one_unique_col = []\n",
        "\n",
        "for column in data.columns:\n",
        "    if data[column].nunique() == 1:\n",
        "        one_unique_col.append((column, data[column].nunique()))\n",
        "        columns_to_drop.append(column)\n",
        "\n",
        "# Print columns with only one unique value and the count of unique values\n",
        "print(\"Columns to drop (having only one unique value):\")\n",
        "for column, unique_count in one_unique_col:\n",
        "    print(f\"Column: {column}, Unique Values: {unique_count}\")\n",
        "\n",
        "\n",
        "print(\"\\nRunnnig List of columns to drop:\")\n",
        "print(columns_to_drop)\n",
        "print(\"\\n\")"
      ],
      "metadata": {
        "colab": {
          "base_uri": "https://localhost:8080/"
        },
        "id": "jV9-STmw761M",
        "outputId": "011b129e-6805-4b51-f24e-6335312ca3a3"
      },
      "execution_count": null,
      "outputs": [
        {
          "output_type": "stream",
          "name": "stdout",
          "text": [
            "Columns to drop (having only one unique value):\n",
            "Column: stateId, Unique Values: 1\n",
            "Column: country, Unique Values: 1\n",
            "Column: state, Unique Values: 1\n",
            "Column: currency, Unique Values: 1\n",
            "\n",
            "Runnnig List of columns to drop:\n",
            "['Unnamed: 0', 'id', 'countyId', 'cityId', 'stateId', 'country', 'state', 'currency']\n",
            "\n",
            "\n"
          ]
        }
      ]
    },
    {
      "cell_type": "code",
      "source": [
        "# Identify columns with limited unique values and their counts\n",
        "LIMITED_UNIQUE = 10             # constant to define how many unique values we may want to consider\n",
        "limited_unique_col = []\n",
        "limited_unique_col_counts = {} #dictionary to store column names and their unique values\n",
        "\n",
        "for column in data.columns:\n",
        "    if data[column].nunique() > 1 and data[column].nunique() < LIMITED_UNIQUE:\n",
        "        limited_unique_col.append((column, data[column].nunique()))\n",
        "        unique_values_counts = data[column].value_counts()\n",
        "        limited_unique_col_counts[column] = unique_values_counts\n",
        "\n",
        "\n",
        "\n",
        "print(\"=\"*50)\n",
        "\n",
        "# Print columns with fewer than LIMITED_UNIQUE values and the count of unique values\n",
        "print(f\"\\nColumns with fewer than {LIMITED_UNIQUE} unique values:\")\n",
        "for column, unique_count in limited_unique_col:\n",
        "  print(f\"Column: {column}, Unique Values: {unique_count}\")\n",
        "\n",
        "print(\"\\n\" + \"=\"*50 + \"\\n\\n\")\n",
        "# Print the unique values and their counts for columns with fewer than COUNT_INSTANCES values\n",
        "COUNT_INSTANCES = 50\n",
        "print(f\"Unique values and their counts for columns with fewer than {COUNT_INSTANCES} unique values:\\n\")\n",
        "for column, unique_values_counts in limited_unique_col_counts.items():\n",
        "  if (unique_values_counts < COUNT_INSTANCES).any():\n",
        "    print(f\"Column: {column}\")\n",
        "    print(unique_values_counts)\n",
        "    #print(unique_values_counts.sum())\n",
        "    print(\"=\"*50)\n"
      ],
      "metadata": {
        "colab": {
          "base_uri": "https://localhost:8080/"
        },
        "id": "IyUbTFdaNuId",
        "outputId": "66db120f-2e5e-4fea-9ffd-6abe67d38930"
      },
      "execution_count": null,
      "outputs": [
        {
          "output_type": "stream",
          "name": "stdout",
          "text": [
            "==================================================\n",
            "\n",
            "Columns with fewer than 10 unique values:\n",
            "Column: is_bankOwned, Unique Values: 2\n",
            "Column: is_forAuction, Unique Values: 2\n",
            "Column: event, Unique Values: 6\n",
            "Column: hasBadGeocode, Unique Values: 2\n",
            "Column: lotAreaUnits, Unique Values: 2\n",
            "Column: parking, Unique Values: 2\n",
            "Column: hasGarage, Unique Values: 2\n",
            "Column: pool, Unique Values: 2\n",
            "Column: spa, Unique Values: 2\n",
            "Column: isNewConstruction, Unique Values: 2\n",
            "Column: hasPetsAllowed, Unique Values: 2\n",
            "Column: homeType, Unique Values: 6\n",
            "\n",
            "==================================================\n",
            "\n",
            "\n",
            "Unique values and their counts for columns with fewer than 50 unique values:\n",
            "\n",
            "Column: is_bankOwned\n",
            "is_bankOwned\n",
            "0    35386\n",
            "1        3\n",
            "Name: count, dtype: int64\n",
            "==================================================\n",
            "Column: is_forAuction\n",
            "is_forAuction\n",
            "0    35363\n",
            "1       26\n",
            "Name: count, dtype: int64\n",
            "==================================================\n",
            "Column: event\n",
            "event\n",
            "Listed for sale    24622\n",
            "Price change        4893\n",
            "Listing removed     4311\n",
            "Sold                1268\n",
            "Listed for rent        5\n",
            "Pending sale           1\n",
            "Name: count, dtype: int64\n",
            "==================================================\n",
            "Column: hasBadGeocode\n",
            "hasBadGeocode\n",
            "0    35386\n",
            "1        3\n",
            "Name: count, dtype: int64\n",
            "==================================================\n",
            "Column: homeType\n",
            "homeType\n",
            "SINGLE_FAMILY    22409\n",
            "LOT               5850\n",
            "CONDO             3495\n",
            "MULTI_FAMILY      2446\n",
            "TOWNHOUSE         1188\n",
            "APARTMENT            1\n",
            "Name: count, dtype: int64\n",
            "==================================================\n"
          ]
        }
      ]
    },
    {
      "cell_type": "code",
      "source": [
        "# Using output from above eliminating columns that have limited number of unique instances\n",
        "# these include is_bankOwned, is_forAuction, hasBadGeocode\n",
        "\n",
        "columns_to_drop.extend(['is_bankOwned', 'is_forAuction', 'hasBadGeocode'])\n",
        "print(\"\\nRunnnig List of columns to drop:\")\n",
        "print(columns_to_drop)\n",
        "print(\"\\n\")\n"
      ],
      "metadata": {
        "colab": {
          "base_uri": "https://localhost:8080/"
        },
        "id": "LuE-3nVGaYl7",
        "outputId": "a51eed1d-8776-4ad8-e345-1e24fd595e28"
      },
      "execution_count": 96,
      "outputs": [
        {
          "output_type": "stream",
          "name": "stdout",
          "text": [
            "\n",
            "Runnnig List of columns to drop:\n",
            "['Unnamed: 0', 'id', 'countyId', 'cityId', 'stateId', 'country', 'state', 'currency', 'is_bankOwned', 'is_forAuction', 'hasBadGeocode']\n",
            "\n",
            "\n"
          ]
        }
      ]
    },
    {
      "cell_type": "code",
      "source": [
        "# Drop those columns from the dataset\n",
        "data_cleaned = data.drop(columns=columns_to_drop)\n",
        "\n",
        "# Show the cleaned dataset with the columns dropped\n",
        "print(\"Dataset after dropping columns based an analysis:\")\n",
        "print(data_cleaned.head())"
      ],
      "metadata": {
        "id": "xJmFC-z_883Q",
        "outputId": "8ab34745-f3c8-4648-c635-6063c860267b",
        "colab": {
          "base_uri": "https://localhost:8080/"
        }
      },
      "execution_count": 97,
      "outputs": [
        {
          "output_type": "stream",
          "name": "stdout",
          "text": [
            "Dataset after dropping columns based an analysis:\n",
            "  datePostedString            event          time     price  \\\n",
            "0       2021-01-13  Listed for sale  1.610496e+12  145000.0   \n",
            "1       2021-07-12  Listed for sale  1.626048e+12  675000.0   \n",
            "2       2021-07-08  Listed for sale  1.625702e+12  649000.0   \n",
            "3       2021-07-07  Listed for sale  1.625616e+12  599000.0   \n",
            "4       2021-07-07  Listed for sale  1.625616e+12  299000.0   \n",
            "\n",
            "   pricePerSquareFoot      city  yearBuilt     streetAddress  zipcode  \\\n",
            "0                 0.0  Gold Run          0  0 Moody Ridge Rd  95717.0   \n",
            "1               404.0    Pinole       1958    1476 Belden Ct  94564.0   \n",
            "2               459.0    Pinole       1959   3540 Savage Ave  94564.0   \n",
            "3               448.0    Pinole       1908      2391 Plum St  94564.0   \n",
            "4                 0.0    Pinole          0   2693 Appian Way  94564.0   \n",
            "\n",
            "    longitude  ...  parking garageSpaces  hasGarage     levels pool  spa  \\\n",
            "0 -120.834473  ...        0          0.0          0          0    0    0   \n",
            "1 -122.300613  ...        1          2.0          1  One Story    0    0   \n",
            "2 -122.271362  ...        1          2.0          1  One Story    0    0   \n",
            "3 -122.289230  ...        1          1.0          1  Two Story    0    1   \n",
            "4 -122.298439  ...        0          0.0          0          0    0    0   \n",
            "\n",
            "   isNewConstruction  hasPetsAllowed       homeType               county  \n",
            "0                  0               0            LOT        Placer County  \n",
            "1                  0               0  SINGLE_FAMILY  Contra Costa County  \n",
            "2                  0               0  SINGLE_FAMILY  Contra Costa County  \n",
            "3                  0               0  SINGLE_FAMILY  Contra Costa County  \n",
            "4                  0               0            LOT  Contra Costa County  \n",
            "\n",
            "[5 rows x 28 columns]\n"
          ]
        }
      ]
    },
    {
      "cell_type": "markdown",
      "source": [
        "# Cleaning Rows\n",
        "\n",
        "After dropping columns, next step is to clean the rows.\n",
        "\n",
        "This would include the following:\n",
        "* Identify rows whose values need to be updated e.g.\n",
        "  1. Column \"homeType\" has one row which has value \"APARTMENT\" --> this should be changed to \"MULTI_FAMILY\"\n",
        "  2. Column event has 5 rows which has value \"Listed for rent\"\n",
        "* Identify rows where price (intended model output) is missing --> these rows should be deleted\n",
        "*\n",
        "\n",
        "\n",
        "\n"
      ],
      "metadata": {
        "id": "kDCl2DJDdt9b"
      }
    },
    {
      "cell_type": "code",
      "source": [
        "# Identify columns with missing values\n",
        "\n",
        "# Identify columns with missing values\n",
        "missing_values = data_cleaned.isnull().sum()\n",
        "\n",
        "# Filter the columns that have missing values\n",
        "columns_with_missing_values = missing_values[missing_values > 0]\n",
        "\n",
        "# Print the columns with missing values and the count of missing values\n",
        "print(\"Columns with missing values and counts of missing values:\")\n",
        "print(columns_with_missing_values)"
      ],
      "metadata": {
        "colab": {
          "base_uri": "https://localhost:8080/"
        },
        "id": "FKgSyIbqKF83",
        "outputId": "2a6588dd-0ab8-4cbd-8d3f-4d0372be37ab"
      },
      "execution_count": null,
      "outputs": [
        {
          "output_type": "stream",
          "name": "stdout",
          "text": [
            "Columns with missing values and counts of missing values:\n",
            "datePostedString      3\n",
            "event               289\n",
            "time                289\n",
            "streetAddress         1\n",
            "zipcode              25\n",
            "description         279\n",
            "dtype: int64\n"
          ]
        }
      ]
    },
    {
      "cell_type": "code",
      "source": [
        "# Identify instances of rows which have no price listed\n",
        "\n",
        "# First ensure that all values in the 'price' column are converted to numeric\n",
        "data_cleaned['price'] = pd.to_numeric(data['price'], errors='coerce')\n",
        "\n",
        "# Identify count of rows with missing values or ZERO values in the 'price' column\n",
        "no_price = data_cleaned[data_cleaned['price'].isna() | (data_cleaned['price'] == 0) | (data_cleaned['price'] < 100)]\n",
        "\n",
        "# Print count of no_price\n",
        "print(\"Count of rows with no price listed:\")\n",
        "print(len(no_price))  # Print the count of rows with no price listed\n",
        "\n"
      ],
      "metadata": {
        "colab": {
          "base_uri": "https://localhost:8080/"
        },
        "id": "qeNHmn0SLgTq",
        "outputId": "61c525bf-8dc7-457e-d386-a4a06d665a89"
      },
      "execution_count": 121,
      "outputs": [
        {
          "output_type": "stream",
          "name": "stdout",
          "text": [
            "Count of rows with no price listed:\n",
            "320\n"
          ]
        }
      ]
    },
    {
      "cell_type": "code",
      "source": [
        "# Drop rows with zero price\n",
        "data_cleaned.drop(data_cleaned[data_cleaned['price'] == 0].index, inplace=True)\n",
        "data_cleaned.drop(data_cleaned[data_cleaned['price'] == 1].index, inplace=True)\n"
      ],
      "metadata": {
        "id": "ted7DRPMTHVX"
      },
      "execution_count": 122,
      "outputs": []
    },
    {
      "cell_type": "code",
      "source": [
        "# Get the describe output as a DataFrame\n",
        "desc_stats = data_cleaned.describe()\n",
        "\n",
        "# Apply formatting to the interested columns\n",
        "desc_stats['price'] = desc_stats['price'].apply(lambda x: '{:.0f}'.format(x))\n",
        "desc_stats['livingArea'] = desc_stats['livingArea'].apply(lambda x: '{:.0f}'.format(x))\n",
        "desc_stats['bedrooms'] = desc_stats['bedrooms'].apply(lambda x: '{:.0f}'.format(x))\n",
        "desc_stats['bathrooms'] = desc_stats['bathrooms'].apply(lambda x: '{:.0f}'.format(x))\n",
        "\n",
        "\n",
        "selected_columns = desc_stats[['price', 'livingArea', 'bedrooms', 'bathrooms']]\n",
        "# Print the formatted describe output\n",
        "print(selected_columns)"
      ],
      "metadata": {
        "id": "SOOPNk-XJ81y",
        "outputId": "77e31e9d-731f-4417-910c-cbb9778fec74",
        "colab": {
          "base_uri": "https://localhost:8080/"
        }
      },
      "execution_count": 123,
      "outputs": [
        {
          "output_type": "stream",
          "name": "stdout",
          "text": [
            "          price livingArea bedrooms bathrooms\n",
            "count     35069      35069    35069     35069\n",
            "mean    1198728       3101        3         2\n",
            "std     2574038      83854        2         2\n",
            "min         650          0        0         0\n",
            "25%      409000        908        2         1\n",
            "50%      699000       1510        3         2\n",
            "75%     1200000       2243        4         3\n",
            "max    95000000    9061351       99        58\n"
          ]
        }
      ]
    },
    {
      "cell_type": "code",
      "source": [
        "import matplotlib.pyplot as plt\n",
        "\n",
        "# Plotting the distribution of housing prices\n",
        "plt.hist(data_cleaned['price'], bins=50, edgecolor='black')\n",
        "plt.title('Distribution of Housing Prices')\n",
        "plt.xlabel('Price')\n",
        "plt.ylabel('Frequency')\n",
        "plt.show()\n"
      ],
      "metadata": {
        "id": "m1_be0BmEgUf",
        "outputId": "61871d76-f327-4e66-b612-89151e65ed13",
        "colab": {
          "base_uri": "https://localhost:8080/",
          "height": 472
        }
      },
      "execution_count": 113,
      "outputs": [
        {
          "output_type": "display_data",
          "data": {
            "text/plain": [
              "<Figure size 640x480 with 1 Axes>"
            ],
            "image/png": "[encoded data removed]"
          },
          "metadata": {}
        }
      ]
    },
    {
      "cell_type": "code",
      "source": [
        "import numpy as np\n",
        "\n",
        "# Apply log transformation to prices to reduce skewness\n",
        "log_prices = np.log1p(data_cleaned['price'])  # np.log1p ensures log(0) works properly\n",
        "\n",
        "# Plotting the log-transformed distribution of housing prices\n",
        "plt.hist(log_prices, bins=50, edgecolor='black')\n",
        "plt.title('Log-Transformed Distribution of Housing Prices')\n",
        "plt.xlabel('Log(Price)')\n",
        "plt.ylabel('Frequency')\n",
        "plt.show()"
      ],
      "metadata": {
        "id": "dw-u9OOsIUbb",
        "outputId": "5373da24-2dcd-4e42-a7b1-e818d6f4c991",
        "colab": {
          "base_uri": "https://localhost:8080/",
          "height": 472
        }
      },
      "execution_count": 114,
      "outputs": [
        {
          "output_type": "display_data",
          "data": {
            "text/plain": [
              "<Figure size 640x480 with 1 Axes>"
            ],
            "image/png": "[encoded data removed]"
          },
          "metadata": {}
        }
      ]
    },
    {
      "cell_type": "code",
      "source": [
        "# Scatter plot for living area vs price\n",
        "plt.scatter(data_cleaned['livingArea'], data['price'])\n",
        "plt.title('Living Area vs Housing Price')\n",
        "plt.xlabel('Living Area (sq ft)')\n",
        "plt.ylabel('Price')\n",
        "plt.show()"
      ],
      "metadata": {
        "id": "81W2JCBwFA0l",
        "outputId": "889fdf6b-43ee-4a88-b665-5c14aa075899",
        "colab": {
          "base_uri": "https://localhost:8080/",
          "height": 472
        }
      },
      "execution_count": 115,
      "outputs": [
        {
          "output_type": "display_data",
          "data": {
            "text/plain": [
              "<Figure size 640x480 with 1 Axes>"
            ],
            "image/png": "[encoded data removed]"
          },
          "metadata": {}
        }
      ]
    },
    {
      "cell_type": "code",
      "source": [
        "# Box plot for home type vs price\n",
        "sns.boxplot(x='homeType', y='price', data=data_cleaned)\n",
        "plt.title('Home Type vs Housing Price')\n",
        "plt.show()"
      ],
      "metadata": {
        "id": "4tpM4zwZFMVZ",
        "outputId": "5df3d03f-6c08-408a-94fe-b4489e923432",
        "colab": {
          "base_uri": "https://localhost:8080/",
          "height": 472
        }
      },
      "execution_count": 116,
      "outputs": [
        {
          "output_type": "display_data",
          "data": {
            "text/plain": [
              "<Figure size 640x480 with 1 Axes>"
            ],
            "image/png": "[encoded data removed]"
          },
          "metadata": {}
        }
      ]
    },
    {
      "cell_type": "code",
      "source": [
        "import seaborn as sns\n",
        "\n",
        "# Correlation matrix\n",
        "correlation_matrix = data_cleaned.corr()\n",
        "\n",
        "# Plotting the heatmap\n",
        "plt.figure(figsize=(12, 8))\n",
        "sns.heatmap(correlation_matrix, annot=True, cmap='coolwarm')\n",
        "plt.title('Correlation Heatmap')\n",
        "plt.show()"
      ],
      "metadata": {
        "id": "0jo419zNF40L",
        "outputId": "22c21e71-e676-4353-b27c-6314f7e3d308",
        "colab": {
          "base_uri": "https://localhost:8080/",
          "height": 356
        }
      },
      "execution_count": 117,
      "outputs": [
        {
          "output_type": "error",
          "ename": "ValueError",
          "evalue": "could not convert string to float: '2021-01-13'",
          "traceback": [
            "\u001b[0;31m---------------------------------------------------------------------------\u001b[0m",
            "\u001b[0;31mValueError\u001b[0m                                Traceback (most recent call last)",
            "\u001b[0;32m<ipython-input-117-bb4eabf6ce03>\u001b[0m in \u001b[0;36m<cell line: 4>\u001b[0;34m()\u001b[0m\n\u001b[1;32m      2\u001b[0m \u001b[0;34m\u001b[0m\u001b[0m\n\u001b[1;32m      3\u001b[0m \u001b[0;31m# Correlation matrix\u001b[0m\u001b[0;34m\u001b[0m\u001b[0;34m\u001b[0m\u001b[0m\n\u001b[0;32m----> 4\u001b[0;31m \u001b[0mcorrelation_matrix\u001b[0m \u001b[0;34m=\u001b[0m \u001b[0mdata_cleaned\u001b[0m\u001b[0;34m.\u001b[0m\u001b[0mcorr\u001b[0m\u001b[0;34m(\u001b[0m\u001b[0;34m)\u001b[0m\u001b[0;34m\u001b[0m\u001b[0;34m\u001b[0m\u001b[0m\n\u001b[0m\u001b[1;32m      5\u001b[0m \u001b[0;34m\u001b[0m\u001b[0m\n\u001b[1;32m      6\u001b[0m \u001b[0;31m# Plotting the heatmap\u001b[0m\u001b[0;34m\u001b[0m\u001b[0;34m\u001b[0m\u001b[0m\n",
            "\u001b[0;32m/usr/local/lib/python3.10/dist-packages/pandas/core/frame.py\u001b[0m in \u001b[0;36mcorr\u001b[0;34m(self, method, min_periods, numeric_only)\u001b[0m\n\u001b[1;32m  10702\u001b[0m         \u001b[0mcols\u001b[0m \u001b[0;34m=\u001b[0m \u001b[0mdata\u001b[0m\u001b[0;34m.\u001b[0m\u001b[0mcolumns\u001b[0m\u001b[0;34m\u001b[0m\u001b[0;34m\u001b[0m\u001b[0m\n\u001b[1;32m  10703\u001b[0m         \u001b[0midx\u001b[0m \u001b[0;34m=\u001b[0m \u001b[0mcols\u001b[0m\u001b[0;34m.\u001b[0m\u001b[0mcopy\u001b[0m\u001b[0;34m(\u001b[0m\u001b[0;34m)\u001b[0m\u001b[0;34m\u001b[0m\u001b[0;34m\u001b[0m\u001b[0m\n\u001b[0;32m> 10704\u001b[0;31m         \u001b[0mmat\u001b[0m \u001b[0;34m=\u001b[0m \u001b[0mdata\u001b[0m\u001b[0;34m.\u001b[0m\u001b[0mto_numpy\u001b[0m\u001b[0;34m(\u001b[0m\u001b[0mdtype\u001b[0m\u001b[0;34m=\u001b[0m\u001b[0mfloat\u001b[0m\u001b[0;34m,\u001b[0m \u001b[0mna_value\u001b[0m\u001b[0;34m=\u001b[0m\u001b[0mnp\u001b[0m\u001b[0;34m.\u001b[0m\u001b[0mnan\u001b[0m\u001b[0;34m,\u001b[0m \u001b[0mcopy\u001b[0m\u001b[0;34m=\u001b[0m\u001b[0;32mFalse\u001b[0m\u001b[0;34m)\u001b[0m\u001b[0;34m\u001b[0m\u001b[0;34m\u001b[0m\u001b[0m\n\u001b[0m\u001b[1;32m  10705\u001b[0m \u001b[0;34m\u001b[0m\u001b[0m\n\u001b[1;32m  10706\u001b[0m         \u001b[0;32mif\u001b[0m \u001b[0mmethod\u001b[0m \u001b[0;34m==\u001b[0m \u001b[0;34m\"pearson\"\u001b[0m\u001b[0;34m:\u001b[0m\u001b[0;34m\u001b[0m\u001b[0;34m\u001b[0m\u001b[0m\n",
            "\u001b[0;32m/usr/local/lib/python3.10/dist-packages/pandas/core/frame.py\u001b[0m in \u001b[0;36mto_numpy\u001b[0;34m(self, dtype, copy, na_value)\u001b[0m\n\u001b[1;32m   1887\u001b[0m         \u001b[0;32mif\u001b[0m \u001b[0mdtype\u001b[0m \u001b[0;32mis\u001b[0m \u001b[0;32mnot\u001b[0m \u001b[0;32mNone\u001b[0m\u001b[0;34m:\u001b[0m\u001b[0;34m\u001b[0m\u001b[0;34m\u001b[0m\u001b[0m\n\u001b[1;32m   1888\u001b[0m             \u001b[0mdtype\u001b[0m \u001b[0;34m=\u001b[0m \u001b[0mnp\u001b[0m\u001b[0;34m.\u001b[0m\u001b[0mdtype\u001b[0m\u001b[0;34m(\u001b[0m\u001b[0mdtype\u001b[0m\u001b[0;34m)\u001b[0m\u001b[0;34m\u001b[0m\u001b[0;34m\u001b[0m\u001b[0m\n\u001b[0;32m-> 1889\u001b[0;31m         \u001b[0mresult\u001b[0m \u001b[0;34m=\u001b[0m \u001b[0mself\u001b[0m\u001b[0;34m.\u001b[0m\u001b[0m_mgr\u001b[0m\u001b[0;34m.\u001b[0m\u001b[0mas_array\u001b[0m\u001b[0;34m(\u001b[0m\u001b[0mdtype\u001b[0m\u001b[0;34m=\u001b[0m\u001b[0mdtype\u001b[0m\u001b[0;34m,\u001b[0m \u001b[0mcopy\u001b[0m\u001b[0;34m=\u001b[0m\u001b[0mcopy\u001b[0m\u001b[0;34m,\u001b[0m \u001b[0mna_value\u001b[0m\u001b[0;34m=\u001b[0m\u001b[0mna_value\u001b[0m\u001b[0;34m)\u001b[0m\u001b[0;34m\u001b[0m\u001b[0;34m\u001b[0m\u001b[0m\n\u001b[0m\u001b[1;32m   1890\u001b[0m         \u001b[0;32mif\u001b[0m \u001b[0mresult\u001b[0m\u001b[0;34m.\u001b[0m\u001b[0mdtype\u001b[0m \u001b[0;32mis\u001b[0m \u001b[0;32mnot\u001b[0m \u001b[0mdtype\u001b[0m\u001b[0;34m:\u001b[0m\u001b[0;34m\u001b[0m\u001b[0;34m\u001b[0m\u001b[0m\n\u001b[1;32m   1891\u001b[0m             \u001b[0mresult\u001b[0m \u001b[0;34m=\u001b[0m \u001b[0mnp\u001b[0m\u001b[0;34m.\u001b[0m\u001b[0marray\u001b[0m\u001b[0;34m(\u001b[0m\u001b[0mresult\u001b[0m\u001b[0;34m,\u001b[0m \u001b[0mdtype\u001b[0m\u001b[0;34m=\u001b[0m\u001b[0mdtype\u001b[0m\u001b[0;34m,\u001b[0m \u001b[0mcopy\u001b[0m\u001b[0;34m=\u001b[0m\u001b[0;32mFalse\u001b[0m\u001b[0;34m)\u001b[0m\u001b[0;34m\u001b[0m\u001b[0;34m\u001b[0m\u001b[0m\n",
            "\u001b[0;32m/usr/local/lib/python3.10/dist-packages/pandas/core/internals/managers.py\u001b[0m in \u001b[0;36mas_array\u001b[0;34m(self, dtype, copy, na_value)\u001b[0m\n\u001b[1;32m   1654\u001b[0m                 \u001b[0marr\u001b[0m\u001b[0;34m.\u001b[0m\u001b[0mflags\u001b[0m\u001b[0;34m.\u001b[0m\u001b[0mwriteable\u001b[0m \u001b[0;34m=\u001b[0m \u001b[0;32mFalse\u001b[0m\u001b[0;34m\u001b[0m\u001b[0;34m\u001b[0m\u001b[0m\n\u001b[1;32m   1655\u001b[0m         \u001b[0;32melse\u001b[0m\u001b[0;34m:\u001b[0m\u001b[0;34m\u001b[0m\u001b[0;34m\u001b[0m\u001b[0m\n\u001b[0;32m-> 1656\u001b[0;31m             \u001b[0marr\u001b[0m \u001b[0;34m=\u001b[0m \u001b[0mself\u001b[0m\u001b[0;34m.\u001b[0m\u001b[0m_interleave\u001b[0m\u001b[0;34m(\u001b[0m\u001b[0mdtype\u001b[0m\u001b[0;34m=\u001b[0m\u001b[0mdtype\u001b[0m\u001b[0;34m,\u001b[0m \u001b[0mna_value\u001b[0m\u001b[0;34m=\u001b[0m\u001b[0mna_value\u001b[0m\u001b[0;34m)\u001b[0m\u001b[0;34m\u001b[0m\u001b[0;34m\u001b[0m\u001b[0m\n\u001b[0m\u001b[1;32m   1657\u001b[0m             \u001b[0;31m# The underlying data was copied within _interleave, so no need\u001b[0m\u001b[0;34m\u001b[0m\u001b[0;34m\u001b[0m\u001b[0m\n\u001b[1;32m   1658\u001b[0m             \u001b[0;31m# to further copy if copy=True or setting na_value\u001b[0m\u001b[0;34m\u001b[0m\u001b[0;34m\u001b[0m\u001b[0m\n",
            "\u001b[0;32m/usr/local/lib/python3.10/dist-packages/pandas/core/internals/managers.py\u001b[0m in \u001b[0;36m_interleave\u001b[0;34m(self, dtype, na_value)\u001b[0m\n\u001b[1;32m   1713\u001b[0m             \u001b[0;32melse\u001b[0m\u001b[0;34m:\u001b[0m\u001b[0;34m\u001b[0m\u001b[0;34m\u001b[0m\u001b[0m\n\u001b[1;32m   1714\u001b[0m                 \u001b[0marr\u001b[0m \u001b[0;34m=\u001b[0m \u001b[0mblk\u001b[0m\u001b[0;34m.\u001b[0m\u001b[0mget_values\u001b[0m\u001b[0;34m(\u001b[0m\u001b[0mdtype\u001b[0m\u001b[0;34m)\u001b[0m\u001b[0;34m\u001b[0m\u001b[0;34m\u001b[0m\u001b[0m\n\u001b[0;32m-> 1715\u001b[0;31m             \u001b[0mresult\u001b[0m\u001b[0;34m[\u001b[0m\u001b[0mrl\u001b[0m\u001b[0;34m.\u001b[0m\u001b[0mindexer\u001b[0m\u001b[0;34m]\u001b[0m \u001b[0;34m=\u001b[0m \u001b[0marr\u001b[0m\u001b[0;34m\u001b[0m\u001b[0;34m\u001b[0m\u001b[0m\n\u001b[0m\u001b[1;32m   1716\u001b[0m             \u001b[0mitemmask\u001b[0m\u001b[0;34m[\u001b[0m\u001b[0mrl\u001b[0m\u001b[0;34m.\u001b[0m\u001b[0mindexer\u001b[0m\u001b[0;34m]\u001b[0m \u001b[0;34m=\u001b[0m \u001b[0;36m1\u001b[0m\u001b[0;34m\u001b[0m\u001b[0;34m\u001b[0m\u001b[0m\n\u001b[1;32m   1717\u001b[0m \u001b[0;34m\u001b[0m\u001b[0m\n",
            "\u001b[0;31mValueError\u001b[0m: could not convert string to float: '2021-01-13'"
          ]
        }
      ]
    }
  ]
}